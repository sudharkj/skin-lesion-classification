{
 "cells": [
  {
   "cell_type": "code",
   "execution_count": null,
   "metadata": {
    "colab": {
     "base_uri": "https://localhost:8080/"
    },
    "id": "Z1QQnh1UF_Zs",
    "outputId": "81df150e-0422-4a62-c569-fda31529791e"
   },
   "outputs": [],
   "source": [
    "import pandas as pd\n",
    "import numpy as np\n",
    "import os\n",
    "import random\n",
    "import pathlib\n",
    "import joblib\n",
    "import glob\n",
    "import random\n",
    "from imutils import rotate as rotate\n",
    "from itertools import product\n",
    "import PIL\n",
    "from PIL import Image\n",
    "import gc\n",
    "\n",
    "import matplotlib.pyplot as plt\n",
    "import seaborn as sns\n",
    "import plotly.express as px\n",
    "import matplotlib.patches as patches\n",
    "from matplotlib.patches import Polygon\n",
    "\n",
    "\n",
    "from sklearn.utils import shuffle\n",
    "from sklearn.ensemble import GradientBoostingClassifier\n",
    "from sklearn.ensemble import AdaBoostClassifier\n",
    "from sklearn.model_selection import GridSearchCV\n",
    "from sklearn.ensemble import RandomForestClassifier\n",
    "from sklearn.model_selection import train_test_split\n",
    "from sklearn.utils import shuffle\n",
    "\n",
    "import tensorflow as tf\n",
    "from tensorflow.keras import layers\n",
    "from tensorflow.keras.callbacks import ModelCheckpoint,EarlyStopping\n",
    "from tensorflow.keras.preprocessing.image import ImageDataGenerator\n",
    "from tensorflow.keras.layers import RandomFlip\n",
    "from tensorflow.keras.layers import RandomZoom\n",
    "from tensorflow.keras.layers import RandomRotation\n",
    "from tensorflow.keras.layers import Conv2D\n",
    "from tensorflow.keras.layers import MaxPooling2D\n",
    "from tensorflow.keras.layers import AveragePooling2D\n",
    "from tensorflow.keras.layers import Dense\n",
    "from tensorflow.keras.layers import Flatten\n",
    "from tensorflow.keras.layers import Dropout\n",
    "from tensorflow.keras.models import Sequential\n",
    "from tensorflow.keras.layers import BatchNormalization\n",
    "from tensorflow.keras.optimizers import Adam\n",
    "from tensorflow.keras.preprocessing.image import ImageDataGenerator\n",
    "from tensorflow.keras.preprocessing.image import array_to_img\n",
    "from tensorflow.keras.preprocessing.image import img_to_array\n",
    "from tensorflow.keras.preprocessing.image import load_img\n",
    "import cv2 as cv\n",
    "import skimage.io as skio\n",
    "\n",
    "# Required to read the data from Kaggle\n",
    "from google.colab import drive\n",
    "drive.mount('/content/gdrive')\n",
    "os.environ['KAGGLE_CONFIG_DIR'] = \"/content/gdrive/MyDrive/Kaggle\"\n",
    "\n",
    "import warnings\n",
    "warnings.simplefilter(\"ignore\", category=DeprecationWarning)"
   ]
  },
  {
   "cell_type": "code",
   "execution_count": null,
   "metadata": {
    "colab": {
     "base_uri": "https://localhost:8080/"
    },
    "id": "AtPhVtlkGWOl",
    "outputId": "aacce2f9-b89d-48f1-e450-06483e3176ce"
   },
   "outputs": [],
   "source": [
    "!kaggle datasets download -d andrewmvd/isic-2019 --force"
   ]
  },
  {
   "cell_type": "code",
   "execution_count": null,
   "metadata": {
    "colab": {
     "base_uri": "https://localhost:8080/"
    },
    "id": "F-9edSncGJT6",
    "outputId": "892587a6-02da-4e73-b646-db7dc9961fe1"
   },
   "outputs": [],
   "source": [
    "\n",
    "!unzip \\*.zip  && rm *.zip"
   ]
  },
  {
   "cell_type": "code",
   "execution_count": null,
   "metadata": {
    "colab": {
     "base_uri": "https://localhost:8080/"
    },
    "id": "PGYIq9dKJGxn",
    "outputId": "998c7f65-65c5-45d5-af2c-4a9512f89154"
   },
   "outputs": [],
   "source": [
    "!wc -l ISIC_2019_Training_GroundTruth.csv\n",
    "!rm -rf /content/ISIC_2019_Training_Input/ISIC_2019_Training_Input/MEL\n",
    "!rm -rf /content/ISIC_2019_Training_Input/ISIC_2019_Training_Input/NV\n",
    "!rm -rf /content/ISIC_2019_Training_Input/ISIC_2019_Training_Input/BCC\n",
    "!rm -rf /content/ISIC_2019_Training_Input/ISIC_2019_Training_Input/UNK\n",
    "!rm -rf /content/ISIC_2019_Training_Input/ISIC_2019_Training_Input/AK\n",
    "!rm -rf /content/ISIC_2019_Training_Input/ISIC_2019_Training_Input/BKL\n",
    "!rm -rf /content/ISIC_2019_Training_Input/ISIC_2019_Training_Input/DF\n",
    "!rm -rf /content/ISIC_2019_Training_Input/ISIC_2019_Training_Input/VASC\n",
    "!rm -rf /content/ISIC_2019_Training_Input/ISIC_2019_Training_Input/SCC"
   ]
  },
  {
   "cell_type": "code",
   "execution_count": null,
   "metadata": {
    "colab": {
     "base_uri": "https://localhost:8080/"
    },
    "id": "yjFGBUkVulbQ",
    "outputId": "bafbb8a0-431a-40ea-f91e-f590abe52afb"
   },
   "outputs": [],
   "source": [
    "orig_label_file = 'ISIC_2019_Training_GroundTruth.csv'\n",
    "orig_label = pd.read_csv(orig_label_file)\n",
    "print(\"Number of rows \", len(orig_label.index))\n",
    "orig_label = shuffle(orig_label)\n",
    "print(\"Number of rows \", len(orig_label.index))\n",
    "\n",
    "split = (0.8, 0.1, 0.1)\n",
    "split_indices = np.multiply(len(orig_label), split).astype(int)\n",
    "for idx, val in enumerate(split_indices):\n",
    "    print(idx, val)\n",
    "    if idx > 0:\n",
    "        split_indices[idx] = sum(split_indices[idx - 1 : idx]) + split_indices[idx]\n",
    "print(\"Split indecs : \", split_indices)\n",
    "\n",
    "\n",
    "train_label = orig_label[: split_indices[0]]\n",
    "test_label = orig_label[split_indices[0] : split_indices[1]]\n",
    "val_test = orig_label[split_indices[1]:]\n",
    "\n",
    "print(\"Train Label Size: \",train_label.size)"
   ]
  },
  {
   "cell_type": "code",
   "execution_count": null,
   "metadata": {
    "colab": {
     "base_uri": "https://localhost:8080/",
     "height": 424
    },
    "id": "lOaNG0228VBy",
    "outputId": "613c8dc0-cd9c-402a-bb05-e3fa522c343f"
   },
   "outputs": [],
   "source": [
    "val_test"
   ]
  },
  {
   "cell_type": "code",
   "execution_count": null,
   "metadata": {
    "colab": {
     "base_uri": "https://localhost:8080/"
    },
    "id": "5_5itWxlzx19",
    "outputId": "954abfcc-9500-4b6e-8268-05dee4339af3"
   },
   "outputs": [],
   "source": [
    "!ls /content/ISIC_2019_Training_Input/ISIC_2019_Training_Input/Train/MEL"
   ]
  },
  {
   "cell_type": "code",
   "execution_count": null,
   "metadata": {
    "colab": {
     "base_uri": "https://localhost:8080/"
    },
    "id": "kMuh9GLVMT3G",
    "outputId": "d7abc111-da6c-46a2-8794-988edd68f3ec"
   },
   "outputs": [],
   "source": [
    "import shutil\n",
    "var_list =['MEL', 'NV','BCC','AK','BKL','DF','VASC','SCC','UNK']\n",
    "labels = train_label.melt(id_vars =['image'], value_vars =['MEL', 'NV','BCC','AK','BKL','DF','VASC','SCC','UNK'])\n",
    "labels = labels.loc[labels['value'] == 1.0]\n",
    "labels= labels.drop(labels.columns[2],axis=1)\n",
    "\n",
    "base_path = '/content/ISIC_2019_Training_Input/ISIC_2019_Training_Input/'\n",
    "train_base_path = '/content/ISIC_2019_Training_Input/ISIC_2019_Training_Input/Train/'\n",
    "isExist = os.path.exists(train_base_path)\n",
    "if not isExist:\n",
    "  os.mkdir(train_base_path)  \n",
    "\n",
    "for value in var_list:\n",
    "  path = train_base_path+value\n",
    "  isExist = os.path.exists(path)\n",
    "  if not isExist:\n",
    "    os.mkdir(path)\n",
    "    print(\"The new directory is created!\")\n",
    "\n",
    "labels\n",
    "for index, row in labels.iterrows():\n",
    "  source = base_path+row['image']+'.jpg';\n",
    "  dest = train_base_path+row['variable']+'/'+row['image']+'.jpg'\n",
    "  im = Image.open(source)\n",
    "  width, height = im.size\n",
    "  newsize = (96, 96)\n",
    "  im1 = im.resize(newsize)\n",
    "  im1.save(source)\n",
    "  shutil.move(source,dest)\n",
    "  print(source,dest)\n",
    "    \n",
    "\n",
    "   \n"
   ]
  },
  {
   "cell_type": "markdown",
   "metadata": {
    "id": "8-uP4qkWhEg0"
   },
   "source": [
    "Moving test images to Test directory"
   ]
  },
  {
   "cell_type": "code",
   "execution_count": null,
   "metadata": {
    "colab": {
     "base_uri": "https://localhost:8080/"
    },
    "id": "b_oLSa36-7HC",
    "outputId": "0747d824-6c29-4a9e-bcb9-f19f34768815"
   },
   "outputs": [],
   "source": [
    "!ls /content/ISIC_2019_Training_Input/ISIC_2019_Training_Input/Train/MEL"
   ]
  },
  {
   "cell_type": "code",
   "execution_count": null,
   "metadata": {
    "colab": {
     "base_uri": "https://localhost:8080/"
    },
    "id": "Tnw2wD-7hEBk",
    "outputId": "ba786e72-927c-46d9-fb4f-7265adcda382"
   },
   "outputs": [],
   "source": [
    "var_list =['MEL', 'NV','BCC','AK','BKL','DF','VASC','SCC','UNK']\n",
    "test_labels = test_label.melt(id_vars =['image'], value_vars =['MEL', 'NV','BCC','AK','BKL','DF','VASC','SCC','UNK'])\n",
    "test_labels = test_labels.loc[test_labels['value'] == 1.0]\n",
    "test_labels= test_labels.drop(test_labels.columns[2],axis=1)\n",
    "#test_label\n",
    "test_base_path = '/content/ISIC_2019_Training_Input/ISIC_2019_Training_Input/'\n",
    "isExist = os.path.exists(test_base_path+'Test/')\n",
    "if not isExist:\n",
    "    os.mkdir(test_base_path+'Test/')\n",
    "    print(\"The new directory is created!\")\n",
    "\n",
    "test_ext_path = '/content/ISIC_2019_Training_Input/ISIC_2019_Training_Input/Test/'\n",
    "\n",
    "mode = 0o777\n",
    "for value in var_list:\n",
    "  test_path = test_ext_path+value\n",
    "  print(test_path)\n",
    "  isExist = os.path.exists(test_path)\n",
    "  if not isExist:\n",
    "    os.mkdir(test_path)\n",
    "    print(\"The new directory is created!\")\n",
    "\n",
    "\n",
    "\n",
    "for index, row in test_labels.iterrows():\n",
    "  source = test_base_path+row['image']+'.jpg'\n",
    "  dest = test_ext_path+row['variable']+'/'+row['image']+'.jpg'\n",
    "  im = Image.open(source)\n",
    "  width, height = im.size\n",
    "  newsize = (96, 96)\n",
    "  im1 = im.resize(newsize)\n",
    "  im1.save(source)\n",
    "  shutil.move(source,dest)"
   ]
  },
  {
   "cell_type": "code",
   "execution_count": null,
   "metadata": {
    "colab": {
     "base_uri": "https://localhost:8080/"
    },
    "id": "HaQaEyrBjyJT",
    "outputId": "202c9720-a7dc-4c60-bcfa-f62cbe0d027b"
   },
   "outputs": [],
   "source": [
    "! ls -ltr /content/ISIC_2019_Training_Input/ISIC_2019_Training_Input/Test/MEL/"
   ]
  },
  {
   "cell_type": "code",
   "execution_count": null,
   "metadata": {
    "id": "2hUXs_d4W8kC"
   },
   "outputs": [],
   "source": [
    "data_dir_train = pathlib.Path(\"/content/ISIC_2019_Training_Input/ISIC_2019_Training_Input/Train/\")\n",
    "data_dir_test = pathlib.Path(\"/content/ISIC_2019_Training_Input/ISIC_2019_Training_Input/Test/\")\n"
   ]
  },
  {
   "cell_type": "code",
   "execution_count": null,
   "metadata": {
    "colab": {
     "base_uri": "https://localhost:8080/"
    },
    "id": "f2EvZb-CXRzB",
    "outputId": "97417933-0a6e-4656-93b0-77b607aff64a"
   },
   "outputs": [],
   "source": [
    "image_count_train = len(list(data_dir_train.glob('*/*.jpg')))\n",
    "print(image_count_train)"
   ]
  },
  {
   "cell_type": "code",
   "execution_count": null,
   "metadata": {
    "colab": {
     "base_uri": "https://localhost:8080/",
     "height": 880
    },
    "id": "OEAHUzLLXeUL",
    "outputId": "aea49b9b-0287-4fac-a15c-e43bcab18abe"
   },
   "outputs": [],
   "source": [
    "image_dataset = tf.keras.preprocessing.image_dataset_from_directory(data_dir_train,batch_size=32,image_size=(96,96),\n",
    "                                                                    label_mode='categorical',seed=123)\n",
    "\n",
    "#all the classes of Skin Cancer\n",
    "class_names = image_dataset.class_names\n",
    "\n",
    "#Dictionary to store the path of image as per the class\n",
    "files_path_dict = {}\n",
    "\n",
    "for c in class_names:\n",
    "    files_path_dict[c] = list(map(lambda x:str(data_dir_train)+'/'+c+'/'+x,os.listdir(str(data_dir_train)+'/'+c)))\n",
    "    #print(c)\n",
    "    \n",
    "    \n",
    "#Visualize image \n",
    "plt.figure(figsize=(15,15))\n",
    "index = 0\n",
    "for c in class_names:\n",
    "    if (c!='UNK' and c!='Test'):\n",
    "      path_list = files_path_dict[c][:1]\n",
    "      index += 1\n",
    "      #print(path_list)\n",
    "      plt.subplot(4,2,index)\n",
    "      plt.imshow(load_img(path_list[0],target_size=(96,96)))\n",
    "      plt.title(c)\n",
    "      plt.axis(\"off\")"
   ]
  },
  {
   "cell_type": "code",
   "execution_count": null,
   "metadata": {
    "colab": {
     "base_uri": "https://localhost:8080/",
     "height": 332
    },
    "id": "qpB9SOeLZzR_",
    "outputId": "51d31530-7ae4-47a5-8c27-58b5b0858c20"
   },
   "outputs": [],
   "source": [
    "def class_distribution_count(directory):\n",
    "    \n",
    "    #count number of image in each classes\n",
    "    count= []\n",
    "    for path in pathlib.Path(directory).iterdir():\n",
    "        if path.is_dir():\n",
    "            count.append(len([name for name in os.listdir(path)\n",
    "                               if os.path.isfile(os.path.join(path, name))]))\n",
    "    \n",
    "    #name of the classes\n",
    "    sub_directory = [name for name in os.listdir(directory)\n",
    "                    if os.path.isdir(os.path.join(directory, name))]\n",
    "    \n",
    "    #return dataframe with image count and class.\n",
    "    return pd.DataFrame(list(zip(sub_directory,count)),columns =['Class', 'No. of Image'])\n",
    "\n",
    "df = class_distribution_count(data_dir_train)\n",
    "df"
   ]
  },
  {
   "cell_type": "code",
   "execution_count": null,
   "metadata": {
    "colab": {
     "base_uri": "https://localhost:8080/",
     "height": 515
    },
    "id": "bzLmGPsAZ6bZ",
    "outputId": "dbf48340-250d-4e94-80cb-f2906f69f05d"
   },
   "outputs": [],
   "source": [
    "import seaborn as sns\n",
    "plt.figure(figsize=(10, 8))\n",
    "sns.barplot(x=\"No. of Image\", y=\"Class\", data=df,\n",
    "            label=\"Class\")"
   ]
  },
  {
   "cell_type": "code",
   "execution_count": null,
   "metadata": {
    "colab": {
     "base_uri": "https://localhost:8080/"
    },
    "id": "37azPNLVaBG2",
    "outputId": "558a75e0-1214-425c-bdde-ac7244eb2550"
   },
   "outputs": [],
   "source": [
    "!pip install Augmentor"
   ]
  },
  {
   "cell_type": "code",
   "execution_count": null,
   "metadata": {
    "colab": {
     "base_uri": "https://localhost:8080/"
    },
    "id": "TZeLLuCkaGHl",
    "outputId": "3ccb6f9e-001c-409f-c6bb-287b73203206"
   },
   "outputs": [],
   "source": [
    "path_to_training_dataset=\"/content/ISIC_2019_Training_Input/ISIC_2019_Training_Input/Train/\"\n",
    "import Augmentor\n",
    "for i in class_names:\n",
    "    if (i!='UNK'):\n",
    "      p = Augmentor.Pipeline(path_to_training_dataset + i)\n",
    "      p.rotate(probability=0.7, max_left_rotation=10, max_right_rotation=10)\n",
    "      p.sample(300)  #Adding 300 samples per class to make sure that none of the classes are sparse"
   ]
  },
  {
   "cell_type": "code",
   "execution_count": null,
   "metadata": {
    "colab": {
     "base_uri": "https://localhost:8080/"
    },
    "id": "qJOanftdclDW",
    "outputId": "6b86644c-28b1-429c-aeea-9538388b25b6"
   },
   "outputs": [],
   "source": [
    "image_count_train = len(list(data_dir_train.glob('*/output/*.jpg')))\n",
    "print(image_count_train)"
   ]
  },
  {
   "cell_type": "code",
   "execution_count": null,
   "metadata": {
    "colab": {
     "base_uri": "https://localhost:8080/"
    },
    "id": "NtgvL2N1c9pD",
    "outputId": "0dd6a3f3-329d-433b-e091-0e37dfe1abe4"
   },
   "outputs": [],
   "source": [
    "# train dataset \n",
    "train_ds = tf.keras.preprocessing.image_dataset_from_directory(data_dir_train, batch_size=32,\n",
    "                                                               image_size=(96,96), label_mode='categorical',\n",
    "                                                               seed=123,subset=\"training\",\n",
    "                                                               validation_split=0.2)\n",
    "\n",
    "#label_mode is categorial, the labels are a float32 tensor of shape (batch_size, num_classes),\n",
    "#representing a one-hot encoding of the class index."
   ]
  },
  {
   "cell_type": "code",
   "execution_count": null,
   "metadata": {
    "colab": {
     "base_uri": "https://localhost:8080/"
    },
    "id": "vsQjtwGzdERH",
    "outputId": "588eff5a-fdbb-40f6-aaa5-fbc118e0c6e6"
   },
   "outputs": [],
   "source": [
    "val_ds =tf.keras.preprocessing.image_dataset_from_directory(data_dir_train,batch_size=32,\n",
    "                                                            image_size=(96,96), label_mode='categorical',\n",
    "                                                            seed=123,subset=\"validation\",\n",
    "                                                            validation_split=0.2)"
   ]
  },
  {
   "cell_type": "code",
   "execution_count": null,
   "metadata": {
    "id": "BLpQShirdKcr"
   },
   "outputs": [],
   "source": [
    "#tf.data.experimental.AUTOTUNE defines appropriate number of processes that are free for working.\n",
    "\n",
    "#`Dataset.cache()` keeps the images in memory after they're loaded off disk during the first epoch.\n",
    "\n",
    "#`Dataset.prefetch()` overlaps data preprocessing and model execution while training.\n",
    "\n",
    "\n",
    "AUTOTUNE = tf.data.experimental.AUTOTUNE\n",
    "train_ds = train_ds.cache().shuffle(1000).prefetch(buffer_size=AUTOTUNE)\n",
    "val_ds = val_ds.cache().prefetch(buffer_size=AUTOTUNE)"
   ]
  },
  {
   "cell_type": "code",
   "execution_count": null,
   "metadata": {
    "colab": {
     "base_uri": "https://localhost:8080/"
    },
    "id": "D6U0Vj7gdQZZ",
    "outputId": "87229976-dd4f-4e8a-c732-9821f2994703"
   },
   "outputs": [],
   "source": [
    "#CNN Model Architecture\n",
    "\n",
    "#Sequential allows you to create models layer-by-layer  \n",
    "model = Sequential()\n",
    "\n",
    "model.add(layers.experimental.preprocessing.Rescaling(1./255,input_shape=(96,96,3)))   #Rescaling Layer\n",
    "\n",
    "#First Convulation layer\n",
    "model.add(layers.Conv2D(32,kernel_size=(3,3),activation='relu'))\n",
    "model.add(layers.MaxPool2D(pool_size=(2,2)))\n",
    "\n",
    "#Second Convulation Layer\n",
    "model.add(layers.Conv2D(64,kernel_size=(3,3),activation='relu'))\n",
    "model.add(layers.MaxPool2D(pool_size=(2,2)))\n",
    "\n",
    "#Third Convulation Layer\n",
    "model.add(layers.Conv2D(128,kernel_size=(3,3),activation='relu'))\n",
    "model.add(layers.MaxPool2D(pool_size=(2,2)))\n",
    "\n",
    "#Dropout layer with 50% Fraction of the input units to drop.\n",
    "model.add(layers.Dropout(0.5))\n",
    "\n",
    "#Flatten Layer\n",
    "##Keras.layers.flatten function flattens the multi-dimensional input tensors into a single dimension.\n",
    "model.add(layers.Flatten())\n",
    "\n",
    "#Dense Layer\n",
    "model.add(layers.Dense(128,activation='relu'))\n",
    "\n",
    "#Dropout layer with 25% Fraction of the input units to drop.\n",
    "model.add(layers.Dropout(0.25))\n",
    "\n",
    "#Dense Layer with softmax activation function.\n",
    "#Softmax is an activation function that scales numbers/logits into probabilities.\n",
    "model.add(layers.Dense(len(class_names),activation='softmax'))\n",
    "\n",
    "model.summary()"
   ]
  },
  {
   "cell_type": "code",
   "execution_count": null,
   "metadata": {
    "colab": {
     "base_uri": "https://localhost:8080/",
     "height": 1000
    },
    "id": "ckKcwL1mdsGe",
    "outputId": "cb347d8f-f16d-49dd-ef45-6d8f9867b1c8"
   },
   "outputs": [],
   "source": [
    "from tensorflow.keras.utils import plot_model\n",
    "plot_model(model, to_file='model_plot.png', show_shapes=True, show_layer_names=True)"
   ]
  },
  {
   "cell_type": "code",
   "execution_count": null,
   "metadata": {
    "id": "InL2hqeEdyxi"
   },
   "outputs": [],
   "source": [
    "#Compile the Model\n",
    "\n",
    "#Adam optimization: is a stochastic gradient descent method that is based on adaptive estimation of first-order and second-order moments.\n",
    "#categorical_crossentropy: Used as a loss function for multi-class classification model where there are two or more output labels.\n",
    "\n",
    "model.compile(optimizer=\"Adam\",loss=\"categorical_crossentropy\",metrics=[\"accuracy\"])\n",
    "\n",
    "#ModelCheckpoint callback is used in conjunction with training using model.fit() to save a model or weights (in a checkpoint file) at some interval,\n",
    "#so the model or weights can be loaded later to continue the training from the state saved.\n",
    "checkpoint = ModelCheckpoint(\"model.h5\",monitor=\"val_accuracy\",save_best_only=True,mode=\"auto\",verbose=1)\n",
    "\n",
    "#Stop training when a monitored metric has stopped improving.\n",
    "earlystop = EarlyStopping(monitor=\"val_accuracy\",patience=5,mode=\"auto\",verbose=1)"
   ]
  },
  {
   "cell_type": "code",
   "execution_count": null,
   "metadata": {
    "colab": {
     "base_uri": "https://localhost:8080/",
     "height": 371
    },
    "id": "N4SGqML9eNaF",
    "outputId": "f793d63c-ef73-453e-8010-7304ab573909"
   },
   "outputs": [],
   "source": [
    "epochs = 20\n",
    "history = model.fit(train_ds, validation_data=val_ds, epochs=epochs,callbacks=[checkpoint,earlystop])"
   ]
  },
  {
   "cell_type": "code",
   "execution_count": null,
   "metadata": {
    "colab": {
     "base_uri": "https://localhost:8080/",
     "height": 621
    },
    "id": "P1K_fOMqGrqF",
    "outputId": "8f4b36e6-8093-4f16-eca5-5c75f91e26e6"
   },
   "outputs": [],
   "source": [
    "epochs_range = range(earlystop.stopped_epoch+1)\n",
    "\n",
    "plt.figure(figsize=(15, 10))\n",
    "plt.subplot(1, 2, 1)\n",
    "\n",
    "#Plot Model Accuracy\n",
    "plt.plot(history.history['accuracy'])\n",
    "plt.plot(history.history['val_accuracy'])\n",
    "plt.title('model accuracy')\n",
    "plt.ylabel('accuracy')\n",
    "plt.xlabel(epochs_range)\n",
    "plt.legend(['train', 'val'], loc='upper left')\n",
    "\n",
    "#Plot Model Loss\n",
    "plt.subplot(1, 2, 2)\n",
    "plt.plot(history.history['loss'])\n",
    "plt.plot(history.history['val_loss'])\n",
    "plt.title('model loss')\n",
    "plt.ylabel('loss')\n",
    "plt.xlabel(epochs_range)\n",
    "plt.legend(['train', 'val'], loc='upper left')\n",
    "plt.show()"
   ]
  },
  {
   "cell_type": "code",
   "execution_count": null,
   "metadata": {
    "colab": {
     "base_uri": "https://localhost:8080/",
     "height": 81
    },
    "id": "HrrrxUQ8-XG1",
    "outputId": "ec713b44-fd53-473a-f7d3-5b5353b54870"
   },
   "outputs": [],
   "source": [
    "test_labels = test_labels.loc[test_labels['image'] == 'ISIC_0033761']\n",
    "test_labels"
   ]
  },
  {
   "cell_type": "code",
   "execution_count": null,
   "metadata": {
    "colab": {
     "base_uri": "https://localhost:8080/",
     "height": 339
    },
    "id": "TAkFuqQ9Gsmn",
    "outputId": "1f03f273-0191-4762-cb58-a30560d849bb"
   },
   "outputs": [],
   "source": [
    "from glob import glob\n",
    "Test_image_path = os.path.join(test_ext_path,class_names[-1], '*')\n",
    "Test_image = glob(Test_image_path)\n",
    "print(Test_image[0])\n",
    "Test_image = load_img(Test_image[0],target_size=(96,96,3))\n",
    "plt.imshow(Test_image)\n",
    "plt.grid(False)\n",
    "\n",
    "img = np.expand_dims(Test_image,axis=0)\n",
    "pred = model.predict(img)\n",
    "pred = np.argmax(pred)\n",
    "pred_class = class_names[pred]\n",
    "print(\"Actual Class \"+ class_names[-1] +'\\n'+ \"Predictive Class \"+pred_class )"
   ]
  },
  {
   "cell_type": "markdown",
   "metadata": {
    "id": "ucVKOVJ4Hw9O"
   },
   "source": [
    "**Checking the prediction for a single class VASC**"
   ]
  },
  {
   "cell_type": "code",
   "execution_count": null,
   "metadata": {
    "colab": {
     "base_uri": "https://localhost:8080/"
    },
    "id": "GeumKiGS_d5x",
    "outputId": "11fc3088-ad73-40aa-e4b8-f7ab9f04fdcb"
   },
   "outputs": [],
   "source": [
    "tf.random.set_seed(1234)\n",
    "np.random.seed(1234)\n",
    "from glob import glob\n",
    "for c in class_names:\n",
    "  if (c=='VASC'):\n",
    "    Test_image_path = os.path.join(test_ext_path,c, '*')\n",
    "    Test_image = glob(Test_image_path)\n",
    "    total_count = 0\n",
    "    match_count = 0\n",
    "    for tim in Test_image:\n",
    "      t_image = load_img(tim,target_size=(96,96,3))\n",
    "      img = np.expand_dims(t_image,axis=0)\n",
    "      pred = model.predict(img)\n",
    "      pred = np.argmax(pred)\n",
    "      pred_class = class_names[pred]\n",
    "      total_count=total_count+1\n",
    "      if c==pred_class:\n",
    "        match_count=match_count+1\n",
    "print(\" Total test count :\",total_count)\n",
    "print(\"Correct match_count:\",match_count)\n",
    "\n",
    "\n"
   ]
  },
  {
   "cell_type": "code",
   "execution_count": null,
   "metadata": {
    "colab": {
     "base_uri": "https://localhost:8080/"
    },
    "id": "8r-XoxN2dXOV",
    "outputId": "458bd30a-f237-43ed-a7aa-28bd178acd6f"
   },
   "outputs": [],
   "source": [
    "data_dir_train"
   ]
  },
  {
   "cell_type": "code",
   "execution_count": null,
   "metadata": {
    "id": "IbvihbgWH6O5"
   },
   "outputs": [],
   "source": [
    "import keras,os\n",
    "from keras.models import Sequential\n",
    "from keras.layers import Dense, Conv2D, MaxPool2D , Flatten\n",
    "from keras.preprocessing.image import ImageDataGenerator\n",
    "import numpy as np"
   ]
  },
  {
   "cell_type": "markdown",
   "metadata": {
    "id": "jVD0WS42sRC0"
   },
   "source": [
    "**VGG16 Model**"
   ]
  },
  {
   "cell_type": "code",
   "execution_count": null,
   "metadata": {
    "colab": {
     "base_uri": "https://localhost:8080/"
    },
    "id": "Ra4X4w5isZNu",
    "outputId": "a1cbe1a9-f592-4f05-a0e9-dc4befc32538"
   },
   "outputs": [],
   "source": [
    "#CNN VGG16 Model \n",
    "\n",
    "#Sequential allows you to create models layer-by-layer  \n",
    "model_vgg16 = Sequential()\n",
    "\n",
    "model_vgg16.add(layers.experimental.preprocessing.Rescaling(1./255,input_shape=(96,96,3)))   #Rescaling Layer\n",
    "\n",
    "#First Convulation layer\n",
    "model_vgg16.add(layers.Conv2D(32,kernel_size=(3,3),activation='relu'))\n",
    "model_vgg16.add(layers.MaxPool2D(pool_size=(2,2)))\n",
    "\n",
    "#Second Convulation Layer\n",
    "model_vgg16.add(layers.Conv2D(64,kernel_size=(3,3),activation='relu'))\n",
    "model_vgg16.add(layers.MaxPool2D(pool_size=(2,2)))\n",
    "\n",
    "#Third Convulation Layer\n",
    "model_vgg16.add(layers.Conv2D(128,kernel_size=(3,3),activation='relu'))\n",
    "model_vgg16.add(layers.MaxPool2D(pool_size=(2,2)))\n",
    "\n",
    "#Dropout layer with 50% Fraction of the input units to drop.\n",
    "model_vgg16.add(layers.Dropout(0.5))\n",
    "\n",
    "#Flatten Layer\n",
    "##Keras.layers.flatten function flattens the multi-dimensional input tensors into a single dimension.\n",
    "model_vgg16.add(layers.Flatten())\n",
    "\n",
    "#Dense Layer\n",
    "model_vgg16.add(layers.Dense(128,activation='relu'))\n",
    "\n",
    "#Dropout layer with 25% Fraction of the input units to drop.\n",
    "model_vgg16.add(layers.Dropout(0.25))\n",
    "\n",
    "#Dense Layer with softmax activation function.\n",
    "#Softmax is an activation function that scales numbers/logits into probabilities.\n",
    "model_vgg16.add(layers.Dense(len(class_names),activation='softmax'))\n",
    "\n",
    "model_vgg16.summary()\n"
   ]
  },
  {
   "cell_type": "code",
   "execution_count": null,
   "metadata": {
    "colab": {
     "base_uri": "https://localhost:8080/",
     "height": 1000
    },
    "id": "6hvwpMkyt3QG",
    "outputId": "642c9abc-880d-4c13-ec90-fb04f5dca666"
   },
   "outputs": [],
   "source": [
    "from tensorflow.keras.utils import plot_model\n",
    "model_vgg16.build()\n",
    "plot_model(model_vgg16, to_file='model_plot_vgg16.png', show_shapes=True, show_layer_names=True)"
   ]
  },
  {
   "cell_type": "code",
   "execution_count": null,
   "metadata": {
    "colab": {
     "base_uri": "https://localhost:8080/"
    },
    "id": "W0tDW74EIM6v",
    "outputId": "b4d56b18-be64-4c5e-a660-ff7495233d1f"
   },
   "outputs": [],
   "source": [
    "from keras.callbacks import ModelCheckpoint, EarlyStopping\n",
    "from keras.optimizers import Adam\n",
    "opt = Adam(lr=0.001)\n",
    "model_vgg16.compile(optimizer=opt,loss=\"categorical_crossentropy\",metrics=[\"accuracy\"])\n",
    "vgg16_checkpoint = ModelCheckpoint(\"vgg16_1.h5\", monitor='val_accuracy', verbose=1, save_best_only=True, save_weights_only=False, mode='auto', period=1)\n",
    "early = EarlyStopping(monitor='val_accuracy', min_delta=0, patience=5, verbose=1, mode='auto')"
   ]
  },
  {
   "cell_type": "code",
   "execution_count": null,
   "metadata": {
    "colab": {
     "base_uri": "https://localhost:8080/"
    },
    "id": "f7q5wYl6MOBy",
    "outputId": "604cd3f8-a9d4-4abc-b2b1-645c429c453c"
   },
   "outputs": [],
   "source": [
    "# train dataset \n",
    "train_ds = tf.keras.preprocessing.image_dataset_from_directory(data_dir_train, batch_size=32,\n",
    "                                                               image_size=(96,96), label_mode='categorical',\n",
    "                                                               seed=123,subset=\"training\",\n",
    "                                                               validation_split=0.2)\n",
    "\n",
    "\n",
    "#label_mode is categorial, the labels are a float32 tensor of shape (batch_size, num_classes),\n",
    "#representing a one-hot encoding of the class index."
   ]
  },
  {
   "cell_type": "code",
   "execution_count": null,
   "metadata": {
    "colab": {
     "base_uri": "https://localhost:8080/"
    },
    "id": "46L42wNWMb_j",
    "outputId": "1e5f8799-7898-4c32-d46e-bdd5ead602df"
   },
   "outputs": [],
   "source": [
    "val_ds =tf.keras.preprocessing.image_dataset_from_directory(data_dir_train,batch_size=32,\n",
    "                                                            image_size=(96,96), label_mode='categorical',\n",
    "                                                            seed=123,subset=\"validation\",\n",
    "                                                            validation_split=0.2)"
   ]
  },
  {
   "cell_type": "code",
   "execution_count": null,
   "metadata": {
    "colab": {
     "base_uri": "https://localhost:8080/"
    },
    "id": "NZ9ZLy9DsETu",
    "outputId": "fadf781a-9f00-452c-a132-fb5876c8afc3"
   },
   "outputs": [],
   "source": [
    "print(train_ds.file_paths)"
   ]
  },
  {
   "cell_type": "code",
   "execution_count": null,
   "metadata": {
    "colab": {
     "base_uri": "https://localhost:8080/"
    },
    "id": "jk98zXayIb1U",
    "outputId": "40a59f9a-5c85-4746-cb9e-81f9644f88fa"
   },
   "outputs": [],
   "source": [
    "\n",
    "\n",
    "#print('val_ds @@@@',val_ds)\n",
    "#history = model1.fit(train_ds, validation_data=val_ds, epochs=epochs,callbacks=[checkpoint,earlystop])\n",
    "#print(train_ds.shape)\n",
    "#hist = model1.fit(steps_per_epoch=20,generator=train_ds, validation_data= val_ds, validation_steps=10,epochs=20,callbacks=[checkpoint,earlystop])\n",
    "hist = model_vgg16.fit(train_ds, validation_data= val_ds,epochs=20,callbacks=[vgg16_checkpoint,early])"
   ]
  },
  {
   "cell_type": "code",
   "execution_count": null,
   "metadata": {
    "colab": {
     "base_uri": "https://localhost:8080/",
     "height": 621
    },
    "id": "s_1x0VDUKnwG",
    "outputId": "35599622-a742-4ca8-a9dc-80132d9fad44"
   },
   "outputs": [],
   "source": [
    "epochs_range = range(earlystop.stopped_epoch+1)\n",
    "\n",
    "plt.figure(figsize=(15, 10))\n",
    "plt.subplot(1, 2, 1)\n",
    "\n",
    "#Plot Model Accuracy\n",
    "plt.plot(hist.history['accuracy'])\n",
    "plt.plot(hist.history['val_accuracy'])\n",
    "plt.title('model accuracy')\n",
    "plt.ylabel('accuracy')\n",
    "plt.xlabel(epochs_range)\n",
    "plt.legend(['train', 'val'], loc='upper left')\n",
    "\n",
    "#Plot Model Loss\n",
    "plt.subplot(1, 2, 2)\n",
    "plt.plot(hist.history['loss'])\n",
    "plt.plot(hist.history['val_loss'])\n",
    "plt.title('model loss')\n",
    "plt.ylabel('loss')\n",
    "plt.xlabel(epochs_range)\n",
    "plt.legend(['train', 'val'], loc='upper left')\n",
    "plt.show()"
   ]
  },
  {
   "cell_type": "code",
   "execution_count": null,
   "metadata": {
    "id": "URwX63dWK-uz"
   },
   "outputs": [],
   "source": [
    "tf.random.set_seed(1234)\n",
    "np.random.seed(1234)\n",
    "from glob import glob\n",
    "for c in class_names:\n",
    "  if (c=='BCC'):\n",
    "    Test_image_path = os.path.join(test_ext_path,c, '*')\n",
    "    Test_image = glob(Test_image_path)\n",
    "    total_count = 0\n",
    "    match_count = 0\n",
    "    for tim in Test_image:\n",
    "      t_image = load_img(tim,target_size=(96,96,3))\n",
    "      img = np.expand_dims(t_image,axis=0)\n",
    "      pred = model_vgg16.predict(img)\n",
    "      pred = np.argmax(pred)\n",
    "      pred_class = class_names[pred]\n",
    "      print(\"Prediction \",pred_class,\" Class \",c,\" Tim \",tim)\n",
    "\n",
    "      total_count=total_count+1\n",
    "      if c==pred_class:\n",
    "        match_count=match_count+1\n",
    "print(\" Total test count :\",total_count)\n",
    "print(\"Correct match_count:\",match_count)"
   ]
  },
  {
   "cell_type": "code",
   "execution_count": null,
   "metadata": {
    "colab": {
     "base_uri": "https://localhost:8080/"
    },
    "id": "wRqUiPl5Wpzf",
    "outputId": "186c9682-3e08-4c69-c699-0855972d2ccd"
   },
   "outputs": [],
   "source": [
    "test_ds = tf.keras.preprocessing.image_dataset_from_directory(\n",
    "    data_dir_test,\n",
    "    label_mode=\"categorical\",\n",
    "    batch_size=32,\n",
    "    image_size=(96, 96),\n",
    "    seed=123,\n",
    "    validation_split=None,\n",
    "    subset=None\n",
    ")"
   ]
  },
  {
   "cell_type": "code",
   "execution_count": null,
   "metadata": {
    "colab": {
     "base_uri": "https://localhost:8080/"
    },
    "id": "fOiiB6hDNqiu",
    "outputId": "13513d87-a280-4ee1-d536-64338b75f450"
   },
   "outputs": [],
   "source": [
    "test_results = model_vgg16.evaluate(test_ds)\n",
    "print('\\nTest Acc. {:.2f}%'.format(test_results[1]*100))"
   ]
  }
 ],
 "metadata": {
  "colab": {
   "authorship_tag": "ABX9TyNqKv08gusFtNnaYHqAMhzH",
   "provenance": []
  },
  "kernelspec": {
   "display_name": "Python 3 (ipykernel)",
   "language": "python",
   "name": "python3"
  },
  "language_info": {
   "codemirror_mode": {
    "name": "ipython",
    "version": 3
   },
   "file_extension": ".py",
   "mimetype": "text/x-python",
   "name": "python",
   "nbconvert_exporter": "python",
   "pygments_lexer": "ipython3",
   "version": "3.9.13"
  }
 },
 "nbformat": 4,
 "nbformat_minor": 4
}
