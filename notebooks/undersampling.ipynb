{
 "cells": [
  {
   "cell_type": "code",
   "execution_count": 1,
   "metadata": {
    "collapsed": true
   },
   "outputs": [
    {
     "name": "stderr",
     "output_type": "stream",
     "text": [
      "2022-11-20 18:28:47.748923: I tensorflow/core/platform/cpu_feature_guard.cc:193] This TensorFlow binary is optimized with oneAPI Deep Neural Network Library (oneDNN) to use the following CPU instructions in performance-critical operations:  AVX2 FMA\n",
      "To enable them in other operations, rebuild TensorFlow with the appropriate compiler flags.\n",
      "2022-11-20 18:28:48.012320: E tensorflow/stream_executor/cuda/cuda_blas.cc:2981] Unable to register cuBLAS factory: Attempting to register factory for plugin cuBLAS when one has already been registered\n",
      "2022-11-20 18:28:48.598991: W tensorflow/stream_executor/platform/default/dso_loader.cc:64] Could not load dynamic library 'libnvinfer.so.7'; dlerror: libnvinfer.so.7: cannot open shared object file: No such file or directory\n",
      "2022-11-20 18:28:48.599144: W tensorflow/stream_executor/platform/default/dso_loader.cc:64] Could not load dynamic library 'libnvinfer_plugin.so.7'; dlerror: libnvinfer_plugin.so.7: cannot open shared object file: No such file or directory\n",
      "2022-11-20 18:28:48.599150: W tensorflow/compiler/tf2tensorrt/utils/py_utils.cc:38] TF-TRT Warning: Cannot dlopen some TensorRT libraries. If you would like to use Nvidia GPU with TensorRT, please make sure the missing libraries mentioned above are installed properly.\n",
      "2022-11-20 18:28:49.302012: I tensorflow/stream_executor/cuda/cuda_gpu_executor.cc:980] successful NUMA node read from SysFS had negative value (-1), but there must be at least one NUMA node, so returning NUMA node zero\n",
      "2022-11-20 18:28:49.302282: I tensorflow/stream_executor/cuda/cuda_gpu_executor.cc:980] successful NUMA node read from SysFS had negative value (-1), but there must be at least one NUMA node, so returning NUMA node zero\n",
      "2022-11-20 18:28:49.314908: W tensorflow/stream_executor/platform/default/dso_loader.cc:64] Could not load dynamic library 'libcudnn.so.8'; dlerror: libcudnn.so.8: cannot open shared object file: No such file or directory\n",
      "2022-11-20 18:28:49.314923: W tensorflow/core/common_runtime/gpu/gpu_device.cc:1934] Cannot dlopen some GPU libraries. Please make sure the missing libraries mentioned above are installed properly if you would like to use GPU. Follow the guide at https://www.tensorflow.org/install/gpu for how to download and setup the required libraries for your platform.\n",
      "Skipping registering GPU devices...\n"
     ]
    }
   ],
   "source": [
    "import random\n",
    "import os\n",
    "\n",
    "from collections import Counter\n",
    "from PIL import Image\n",
    "\n",
    "import numpy as np\n",
    "import pandas as pd\n",
    "pd.options.mode.chained_assignment = None\n",
    "\n",
    "import matplotlib.pyplot as plt\n",
    "import matplotlib.image as mpimg\n",
    "import seaborn as sns\n",
    "\n",
    "import tensorflow as tf\n",
    "\n",
    "os.environ[\"CUDA_VISIBLE_DEVICES\"] = ','.join(\n",
    "    str(i) for i in range(len(tf.config.experimental.list_physical_devices('GPU'))))\n",
    "os.environ[\"TF_GPU_ALLOCATOR\"] = \"cuda_malloc_async\"\n",
    "for i in range(len(tf.config.experimental.list_physical_devices('GPU'))):\n",
    "    tf.config.experimental.set_memory_growth(tf.config.experimental.list_physical_devices('GPU')[i], True)\n",
    "\n",
    "keras = tf.keras\n",
    "from keras.utils import array_to_img, img_to_array, load_img\n",
    "from keras import models\n",
    "from keras import layers\n",
    "\n",
    "from imblearn.under_sampling import NearMiss\n",
    "from sklearn.model_selection import train_test_split\n",
    "\n",
    "# https://dataverse.harvard.edu/dataset.xhtml?persistentId=doi:10.7910/DVN/DBW86T"
   ]
  },
  {
   "cell_type": "code",
   "execution_count": 2,
   "metadata": {
    "collapsed": false
   },
   "outputs": [],
   "source": [
    "# Constants\n",
    "DATA_PATH = '../src/data/external/'\n",
    "IMAGE_PATH = f'{DATA_PATH}/ISIC_2019_Training_Input/'\n",
    "IMAGE_PREFIX = '.jpg'\n",
    "TARGET_SIZE = (32, 32)\n",
    "CHANNELS = 3\n",
    "CONTRAST_FACTOR = 3\n",
    "DELTA = 0.3\n",
    "RANDOM_STATE = 42\n",
    "TEST_SIZE = 0.2"
   ]
  },
  {
   "cell_type": "code",
   "execution_count": 3,
   "metadata": {
    "collapsed": false
   },
   "outputs": [],
   "source": [
    "def reset_random_seeds(seed):\n",
    "    os.environ['PYTHONHASHSEED'] = str(seed)\n",
    "    tf.random.set_seed(seed)\n",
    "    np.random.seed(seed)\n",
    "    random.seed(seed)"
   ]
  },
  {
   "cell_type": "code",
   "execution_count": 4,
   "metadata": {
    "collapsed": false
   },
   "outputs": [],
   "source": [
    "df_metadata = pd.read_csv(f'{DATA_PATH}/ISIC_2019_Training_Metadata.csv')\n",
    "df_truth = pd.read_csv(f'{DATA_PATH}/ISIC_2019_Training_GroundTruth.csv')"
   ]
  },
  {
   "cell_type": "code",
   "execution_count": 5,
   "metadata": {
    "collapsed": false
   },
   "outputs": [
    {
     "name": "stdout",
     "output_type": "stream",
     "text": [
      "Index(['MEL', 'NV', 'BCC', 'AK', 'BKL', 'DF', 'VASC', 'SCC', 'UNK'], dtype='object')\n",
      "{0: 'MEL', 1: 'NV', 2: 'BCC', 3: 'AK', 4: 'BKL', 5: 'DF', 6: 'VASC', 7: 'SCC', 8: 'UNK'}\n"
     ]
    }
   ],
   "source": [
    "labels = df_truth.columns\n",
    "labels = labels[1:]\n",
    "print(labels)\n",
    "label_mapping = {i: label for i, label in enumerate(labels)}\n",
    "print(label_mapping)"
   ]
  },
  {
   "cell_type": "code",
   "execution_count": 6,
   "metadata": {
    "collapsed": false
   },
   "outputs": [
    {
     "name": "stdout",
     "output_type": "stream",
     "text": [
      "Dense Labels...\n"
     ]
    },
    {
     "data": {
      "text/plain": "array([[0., 1., 0., ..., 0., 0., 0.],\n       [0., 1., 0., ..., 0., 0., 0.],\n       [1., 0., 0., ..., 0., 0., 0.],\n       ...,\n       [1., 0., 0., ..., 0., 0., 0.],\n       [0., 1., 0., ..., 0., 0., 0.],\n       [0., 0., 0., ..., 0., 0., 0.]])"
     },
     "metadata": {},
     "output_type": "display_data"
    },
    {
     "name": "stdout",
     "output_type": "stream",
     "text": [
      "Truth Labels...\n"
     ]
    },
    {
     "data": {
      "text/plain": "array([1, 1, 0, ..., 0, 1, 4])"
     },
     "metadata": {},
     "output_type": "display_data"
    }
   ],
   "source": [
    "dense_labels = df_truth[labels]\n",
    "dense_labels = dense_labels.values\n",
    "print('Dense Labels...')\n",
    "display(dense_labels)\n",
    "truth_labels = np.argmax(dense_labels, axis=-1)\n",
    "print('Truth Labels...')\n",
    "display(truth_labels)"
   ]
  },
  {
   "cell_type": "code",
   "execution_count": 7,
   "metadata": {
    "collapsed": false
   },
   "outputs": [
    {
     "data": {
      "text/plain": "              image  MEL   NV  BCC   AK  BKL   DF  VASC  SCC  UNK  label\n0      ISIC_0000000  0.0  1.0  0.0  0.0  0.0  0.0   0.0  0.0  0.0      1\n1      ISIC_0000001  0.0  1.0  0.0  0.0  0.0  0.0   0.0  0.0  0.0      1\n2      ISIC_0000002  1.0  0.0  0.0  0.0  0.0  0.0   0.0  0.0  0.0      0\n3      ISIC_0000003  0.0  1.0  0.0  0.0  0.0  0.0   0.0  0.0  0.0      1\n4      ISIC_0000004  1.0  0.0  0.0  0.0  0.0  0.0   0.0  0.0  0.0      0\n...             ...  ...  ...  ...  ...  ...  ...   ...  ...  ...    ...\n25326  ISIC_0073247  0.0  0.0  1.0  0.0  0.0  0.0   0.0  0.0  0.0      2\n25327  ISIC_0073248  0.0  0.0  0.0  0.0  1.0  0.0   0.0  0.0  0.0      4\n25328  ISIC_0073249  1.0  0.0  0.0  0.0  0.0  0.0   0.0  0.0  0.0      0\n25329  ISIC_0073251  0.0  1.0  0.0  0.0  0.0  0.0   0.0  0.0  0.0      1\n25330  ISIC_0073254  0.0  0.0  0.0  0.0  1.0  0.0   0.0  0.0  0.0      4\n\n[25331 rows x 11 columns]",
      "text/html": "<div>\n<style scoped>\n    .dataframe tbody tr th:only-of-type {\n        vertical-align: middle;\n    }\n\n    .dataframe tbody tr th {\n        vertical-align: top;\n    }\n\n    .dataframe thead th {\n        text-align: right;\n    }\n</style>\n<table border=\"1\" class=\"dataframe\">\n  <thead>\n    <tr style=\"text-align: right;\">\n      <th></th>\n      <th>image</th>\n      <th>MEL</th>\n      <th>NV</th>\n      <th>BCC</th>\n      <th>AK</th>\n      <th>BKL</th>\n      <th>DF</th>\n      <th>VASC</th>\n      <th>SCC</th>\n      <th>UNK</th>\n      <th>label</th>\n    </tr>\n  </thead>\n  <tbody>\n    <tr>\n      <th>0</th>\n      <td>ISIC_0000000</td>\n      <td>0.0</td>\n      <td>1.0</td>\n      <td>0.0</td>\n      <td>0.0</td>\n      <td>0.0</td>\n      <td>0.0</td>\n      <td>0.0</td>\n      <td>0.0</td>\n      <td>0.0</td>\n      <td>1</td>\n    </tr>\n    <tr>\n      <th>1</th>\n      <td>ISIC_0000001</td>\n      <td>0.0</td>\n      <td>1.0</td>\n      <td>0.0</td>\n      <td>0.0</td>\n      <td>0.0</td>\n      <td>0.0</td>\n      <td>0.0</td>\n      <td>0.0</td>\n      <td>0.0</td>\n      <td>1</td>\n    </tr>\n    <tr>\n      <th>2</th>\n      <td>ISIC_0000002</td>\n      <td>1.0</td>\n      <td>0.0</td>\n      <td>0.0</td>\n      <td>0.0</td>\n      <td>0.0</td>\n      <td>0.0</td>\n      <td>0.0</td>\n      <td>0.0</td>\n      <td>0.0</td>\n      <td>0</td>\n    </tr>\n    <tr>\n      <th>3</th>\n      <td>ISIC_0000003</td>\n      <td>0.0</td>\n      <td>1.0</td>\n      <td>0.0</td>\n      <td>0.0</td>\n      <td>0.0</td>\n      <td>0.0</td>\n      <td>0.0</td>\n      <td>0.0</td>\n      <td>0.0</td>\n      <td>1</td>\n    </tr>\n    <tr>\n      <th>4</th>\n      <td>ISIC_0000004</td>\n      <td>1.0</td>\n      <td>0.0</td>\n      <td>0.0</td>\n      <td>0.0</td>\n      <td>0.0</td>\n      <td>0.0</td>\n      <td>0.0</td>\n      <td>0.0</td>\n      <td>0.0</td>\n      <td>0</td>\n    </tr>\n    <tr>\n      <th>...</th>\n      <td>...</td>\n      <td>...</td>\n      <td>...</td>\n      <td>...</td>\n      <td>...</td>\n      <td>...</td>\n      <td>...</td>\n      <td>...</td>\n      <td>...</td>\n      <td>...</td>\n      <td>...</td>\n    </tr>\n    <tr>\n      <th>25326</th>\n      <td>ISIC_0073247</td>\n      <td>0.0</td>\n      <td>0.0</td>\n      <td>1.0</td>\n      <td>0.0</td>\n      <td>0.0</td>\n      <td>0.0</td>\n      <td>0.0</td>\n      <td>0.0</td>\n      <td>0.0</td>\n      <td>2</td>\n    </tr>\n    <tr>\n      <th>25327</th>\n      <td>ISIC_0073248</td>\n      <td>0.0</td>\n      <td>0.0</td>\n      <td>0.0</td>\n      <td>0.0</td>\n      <td>1.0</td>\n      <td>0.0</td>\n      <td>0.0</td>\n      <td>0.0</td>\n      <td>0.0</td>\n      <td>4</td>\n    </tr>\n    <tr>\n      <th>25328</th>\n      <td>ISIC_0073249</td>\n      <td>1.0</td>\n      <td>0.0</td>\n      <td>0.0</td>\n      <td>0.0</td>\n      <td>0.0</td>\n      <td>0.0</td>\n      <td>0.0</td>\n      <td>0.0</td>\n      <td>0.0</td>\n      <td>0</td>\n    </tr>\n    <tr>\n      <th>25329</th>\n      <td>ISIC_0073251</td>\n      <td>0.0</td>\n      <td>1.0</td>\n      <td>0.0</td>\n      <td>0.0</td>\n      <td>0.0</td>\n      <td>0.0</td>\n      <td>0.0</td>\n      <td>0.0</td>\n      <td>0.0</td>\n      <td>1</td>\n    </tr>\n    <tr>\n      <th>25330</th>\n      <td>ISIC_0073254</td>\n      <td>0.0</td>\n      <td>0.0</td>\n      <td>0.0</td>\n      <td>0.0</td>\n      <td>1.0</td>\n      <td>0.0</td>\n      <td>0.0</td>\n      <td>0.0</td>\n      <td>0.0</td>\n      <td>4</td>\n    </tr>\n  </tbody>\n</table>\n<p>25331 rows × 11 columns</p>\n</div>"
     },
     "metadata": {},
     "output_type": "display_data"
    }
   ],
   "source": [
    "df_truth['label'] = truth_labels.tolist()\n",
    "display(df_truth)"
   ]
  },
  {
   "cell_type": "code",
   "execution_count": 8,
   "metadata": {
    "collapsed": false
   },
   "outputs": [
    {
     "data": {
      "text/plain": "              image  age_approx anatom_site_general    lesion_id     sex  MEL  \\\n0      ISIC_0000000        55.0      anterior torso          NaN  female  0.0   \n1      ISIC_0000001        30.0      anterior torso          NaN  female  0.0   \n2      ISIC_0000002        60.0     upper extremity          NaN  female  1.0   \n3      ISIC_0000003        30.0     upper extremity          NaN    male  0.0   \n4      ISIC_0000004        80.0     posterior torso          NaN    male  1.0   \n...             ...         ...                 ...          ...     ...  ...   \n25326  ISIC_0073247        85.0           head/neck  BCN_0003925  female  0.0   \n25327  ISIC_0073248        65.0      anterior torso  BCN_0001819    male  0.0   \n25328  ISIC_0073249        70.0     lower extremity  BCN_0001085    male  1.0   \n25329  ISIC_0073251        55.0         palms/soles  BCN_0002083  female  0.0   \n25330  ISIC_0073254        50.0     upper extremity  BCN_0001079    male  0.0   \n\n        NV  BCC   AK  BKL   DF  VASC  SCC  UNK  label  \n0      1.0  0.0  0.0  0.0  0.0   0.0  0.0  0.0      1  \n1      1.0  0.0  0.0  0.0  0.0   0.0  0.0  0.0      1  \n2      0.0  0.0  0.0  0.0  0.0   0.0  0.0  0.0      0  \n3      1.0  0.0  0.0  0.0  0.0   0.0  0.0  0.0      1  \n4      0.0  0.0  0.0  0.0  0.0   0.0  0.0  0.0      0  \n...    ...  ...  ...  ...  ...   ...  ...  ...    ...  \n25326  0.0  1.0  0.0  0.0  0.0   0.0  0.0  0.0      2  \n25327  0.0  0.0  0.0  1.0  0.0   0.0  0.0  0.0      4  \n25328  0.0  0.0  0.0  0.0  0.0   0.0  0.0  0.0      0  \n25329  1.0  0.0  0.0  0.0  0.0   0.0  0.0  0.0      1  \n25330  0.0  0.0  0.0  1.0  0.0   0.0  0.0  0.0      4  \n\n[25331 rows x 15 columns]",
      "text/html": "<div>\n<style scoped>\n    .dataframe tbody tr th:only-of-type {\n        vertical-align: middle;\n    }\n\n    .dataframe tbody tr th {\n        vertical-align: top;\n    }\n\n    .dataframe thead th {\n        text-align: right;\n    }\n</style>\n<table border=\"1\" class=\"dataframe\">\n  <thead>\n    <tr style=\"text-align: right;\">\n      <th></th>\n      <th>image</th>\n      <th>age_approx</th>\n      <th>anatom_site_general</th>\n      <th>lesion_id</th>\n      <th>sex</th>\n      <th>MEL</th>\n      <th>NV</th>\n      <th>BCC</th>\n      <th>AK</th>\n      <th>BKL</th>\n      <th>DF</th>\n      <th>VASC</th>\n      <th>SCC</th>\n      <th>UNK</th>\n      <th>label</th>\n    </tr>\n  </thead>\n  <tbody>\n    <tr>\n      <th>0</th>\n      <td>ISIC_0000000</td>\n      <td>55.0</td>\n      <td>anterior torso</td>\n      <td>NaN</td>\n      <td>female</td>\n      <td>0.0</td>\n      <td>1.0</td>\n      <td>0.0</td>\n      <td>0.0</td>\n      <td>0.0</td>\n      <td>0.0</td>\n      <td>0.0</td>\n      <td>0.0</td>\n      <td>0.0</td>\n      <td>1</td>\n    </tr>\n    <tr>\n      <th>1</th>\n      <td>ISIC_0000001</td>\n      <td>30.0</td>\n      <td>anterior torso</td>\n      <td>NaN</td>\n      <td>female</td>\n      <td>0.0</td>\n      <td>1.0</td>\n      <td>0.0</td>\n      <td>0.0</td>\n      <td>0.0</td>\n      <td>0.0</td>\n      <td>0.0</td>\n      <td>0.0</td>\n      <td>0.0</td>\n      <td>1</td>\n    </tr>\n    <tr>\n      <th>2</th>\n      <td>ISIC_0000002</td>\n      <td>60.0</td>\n      <td>upper extremity</td>\n      <td>NaN</td>\n      <td>female</td>\n      <td>1.0</td>\n      <td>0.0</td>\n      <td>0.0</td>\n      <td>0.0</td>\n      <td>0.0</td>\n      <td>0.0</td>\n      <td>0.0</td>\n      <td>0.0</td>\n      <td>0.0</td>\n      <td>0</td>\n    </tr>\n    <tr>\n      <th>3</th>\n      <td>ISIC_0000003</td>\n      <td>30.0</td>\n      <td>upper extremity</td>\n      <td>NaN</td>\n      <td>male</td>\n      <td>0.0</td>\n      <td>1.0</td>\n      <td>0.0</td>\n      <td>0.0</td>\n      <td>0.0</td>\n      <td>0.0</td>\n      <td>0.0</td>\n      <td>0.0</td>\n      <td>0.0</td>\n      <td>1</td>\n    </tr>\n    <tr>\n      <th>4</th>\n      <td>ISIC_0000004</td>\n      <td>80.0</td>\n      <td>posterior torso</td>\n      <td>NaN</td>\n      <td>male</td>\n      <td>1.0</td>\n      <td>0.0</td>\n      <td>0.0</td>\n      <td>0.0</td>\n      <td>0.0</td>\n      <td>0.0</td>\n      <td>0.0</td>\n      <td>0.0</td>\n      <td>0.0</td>\n      <td>0</td>\n    </tr>\n    <tr>\n      <th>...</th>\n      <td>...</td>\n      <td>...</td>\n      <td>...</td>\n      <td>...</td>\n      <td>...</td>\n      <td>...</td>\n      <td>...</td>\n      <td>...</td>\n      <td>...</td>\n      <td>...</td>\n      <td>...</td>\n      <td>...</td>\n      <td>...</td>\n      <td>...</td>\n      <td>...</td>\n    </tr>\n    <tr>\n      <th>25326</th>\n      <td>ISIC_0073247</td>\n      <td>85.0</td>\n      <td>head/neck</td>\n      <td>BCN_0003925</td>\n      <td>female</td>\n      <td>0.0</td>\n      <td>0.0</td>\n      <td>1.0</td>\n      <td>0.0</td>\n      <td>0.0</td>\n      <td>0.0</td>\n      <td>0.0</td>\n      <td>0.0</td>\n      <td>0.0</td>\n      <td>2</td>\n    </tr>\n    <tr>\n      <th>25327</th>\n      <td>ISIC_0073248</td>\n      <td>65.0</td>\n      <td>anterior torso</td>\n      <td>BCN_0001819</td>\n      <td>male</td>\n      <td>0.0</td>\n      <td>0.0</td>\n      <td>0.0</td>\n      <td>0.0</td>\n      <td>1.0</td>\n      <td>0.0</td>\n      <td>0.0</td>\n      <td>0.0</td>\n      <td>0.0</td>\n      <td>4</td>\n    </tr>\n    <tr>\n      <th>25328</th>\n      <td>ISIC_0073249</td>\n      <td>70.0</td>\n      <td>lower extremity</td>\n      <td>BCN_0001085</td>\n      <td>male</td>\n      <td>1.0</td>\n      <td>0.0</td>\n      <td>0.0</td>\n      <td>0.0</td>\n      <td>0.0</td>\n      <td>0.0</td>\n      <td>0.0</td>\n      <td>0.0</td>\n      <td>0.0</td>\n      <td>0</td>\n    </tr>\n    <tr>\n      <th>25329</th>\n      <td>ISIC_0073251</td>\n      <td>55.0</td>\n      <td>palms/soles</td>\n      <td>BCN_0002083</td>\n      <td>female</td>\n      <td>0.0</td>\n      <td>1.0</td>\n      <td>0.0</td>\n      <td>0.0</td>\n      <td>0.0</td>\n      <td>0.0</td>\n      <td>0.0</td>\n      <td>0.0</td>\n      <td>0.0</td>\n      <td>1</td>\n    </tr>\n    <tr>\n      <th>25330</th>\n      <td>ISIC_0073254</td>\n      <td>50.0</td>\n      <td>upper extremity</td>\n      <td>BCN_0001079</td>\n      <td>male</td>\n      <td>0.0</td>\n      <td>0.0</td>\n      <td>0.0</td>\n      <td>0.0</td>\n      <td>1.0</td>\n      <td>0.0</td>\n      <td>0.0</td>\n      <td>0.0</td>\n      <td>0.0</td>\n      <td>4</td>\n    </tr>\n  </tbody>\n</table>\n<p>25331 rows × 15 columns</p>\n</div>"
     },
     "metadata": {},
     "output_type": "display_data"
    }
   ],
   "source": [
    "df_joined = df_metadata.join(df_truth.set_index('image'), on='image', how='left')\n",
    "display(df_joined)"
   ]
  },
  {
   "cell_type": "code",
   "execution_count": 9,
   "metadata": {
    "collapsed": false
   },
   "outputs": [
    {
     "name": "stdout",
     "output_type": "stream",
     "text": [
      "Count of null values in anatom_site_general column before null fill: 2631\n",
      "Count of null values in anatom_site_general column after null fill: 0\n"
     ]
    }
   ],
   "source": [
    "# Site details add more information to model and so fill with unknown if not available\n",
    "print(f\"Count of null values in anatom_site_general column before null fill: {sum(df_joined['anatom_site_general'].isnull())}\")\n",
    "df_joined['anatom_site_general'] = df_joined['anatom_site_general'].fillna('unknown')\n",
    "print(f\"Count of null values in anatom_site_general column after null fill: {sum(df_joined['anatom_site_general'].isnull())}\")"
   ]
  },
  {
   "cell_type": "code",
   "execution_count": 10,
   "metadata": {
    "collapsed": false
   },
   "outputs": [
    {
     "name": "stdout",
     "output_type": "stream",
     "text": [
      "Count of null values in sex column before null fill: 384\n",
      "Count of null values in sex column after null fill: 0\n"
     ]
    }
   ],
   "source": [
    "# Sex details add more information to model and so fill with unknown if not available\n",
    "print(f\"Count of null values in sex column before null fill: {sum(df_joined['sex'].isnull())}\")\n",
    "df_joined['sex'] = df_joined['sex'].fillna('unknown')\n",
    "print(f\"Count of null values in sex column after null fill: {sum(df_joined['sex'].isnull())}\")"
   ]
  },
  {
   "cell_type": "code",
   "execution_count": 11,
   "metadata": {
    "collapsed": false
   },
   "outputs": [
    {
     "name": "stdout",
     "output_type": "stream",
     "text": [
      "Observations in cleaned dataframe before na/inf/zero remove: 24894\n",
      "Observations in cleaned dataframe after na/inf/zero remove: 24840\n"
     ]
    }
   ],
   "source": [
    "# Age is important for the model and so we remove rows with na/inf/zero values\n",
    "df_cleaned = df_joined[~df_joined['age_approx'].isnull()]\n",
    "print(f\"Observations in cleaned dataframe before na/inf/zero remove: {len(df_cleaned)}\")\n",
    "df_cleaned.replace([np.inf, -np.inf], np.nan, inplace=True)\n",
    "df_cleaned.dropna(how=\"all\", inplace=True)\n",
    "df_cleaned = df_cleaned[df_cleaned['age_approx'] > 0]\n",
    "print(f\"Observations in cleaned dataframe after na/inf/zero remove: {len(df_cleaned)}\")"
   ]
  },
  {
   "cell_type": "code",
   "execution_count": 12,
   "outputs": [],
   "source": [
    "# Convert age column to uint8 for resampling\n",
    "# df_cleaned['age_approx'] = df_cleaned['age_approx'].astype(np.uint8)\n",
    "# display(df_cleaned)"
   ],
   "metadata": {
    "collapsed": false
   }
  },
  {
   "cell_type": "code",
   "execution_count": 13,
   "metadata": {
    "collapsed": false
   },
   "outputs": [
    {
     "data": {
      "text/plain": "              image  age_approx anatom_site_general    lesion_id     sex  MEL  \\\n0      ISIC_0000000        55.0      anterior torso          NaN  female  0.0   \n1      ISIC_0000001        30.0      anterior torso          NaN  female  0.0   \n2      ISIC_0000002        60.0     upper extremity          NaN  female  1.0   \n3      ISIC_0000003        30.0     upper extremity          NaN    male  0.0   \n4      ISIC_0000004        80.0     posterior torso          NaN    male  1.0   \n...             ...         ...                 ...          ...     ...  ...   \n25326  ISIC_0073247        85.0           head/neck  BCN_0003925  female  0.0   \n25327  ISIC_0073248        65.0      anterior torso  BCN_0001819    male  0.0   \n25328  ISIC_0073249        70.0     lower extremity  BCN_0001085    male  1.0   \n25329  ISIC_0073251        55.0         palms/soles  BCN_0002083  female  0.0   \n25330  ISIC_0073254        50.0     upper extremity  BCN_0001079    male  0.0   \n\n        NV  BCC   AK  BKL   DF  VASC  SCC  UNK  label anatomy_site  \n0      1.0  0.0  0.0  0.0  0.0   0.0  0.0  0.0      1        torso  \n1      1.0  0.0  0.0  0.0  0.0   0.0  0.0  0.0      1        torso  \n2      0.0  0.0  0.0  0.0  0.0   0.0  0.0  0.0      0    extremity  \n3      1.0  0.0  0.0  0.0  0.0   0.0  0.0  0.0      1    extremity  \n4      0.0  0.0  0.0  0.0  0.0   0.0  0.0  0.0      0        torso  \n...    ...  ...  ...  ...  ...   ...  ...  ...    ...          ...  \n25326  0.0  1.0  0.0  0.0  0.0   0.0  0.0  0.0      2    head/neck  \n25327  0.0  0.0  0.0  1.0  0.0   0.0  0.0  0.0      4        torso  \n25328  0.0  0.0  0.0  0.0  0.0   0.0  0.0  0.0      0    extremity  \n25329  1.0  0.0  0.0  0.0  0.0   0.0  0.0  0.0      1  palms/soles  \n25330  0.0  0.0  0.0  1.0  0.0   0.0  0.0  0.0      4    extremity  \n\n[24840 rows x 16 columns]",
      "text/html": "<div>\n<style scoped>\n    .dataframe tbody tr th:only-of-type {\n        vertical-align: middle;\n    }\n\n    .dataframe tbody tr th {\n        vertical-align: top;\n    }\n\n    .dataframe thead th {\n        text-align: right;\n    }\n</style>\n<table border=\"1\" class=\"dataframe\">\n  <thead>\n    <tr style=\"text-align: right;\">\n      <th></th>\n      <th>image</th>\n      <th>age_approx</th>\n      <th>anatom_site_general</th>\n      <th>lesion_id</th>\n      <th>sex</th>\n      <th>MEL</th>\n      <th>NV</th>\n      <th>BCC</th>\n      <th>AK</th>\n      <th>BKL</th>\n      <th>DF</th>\n      <th>VASC</th>\n      <th>SCC</th>\n      <th>UNK</th>\n      <th>label</th>\n      <th>anatomy_site</th>\n    </tr>\n  </thead>\n  <tbody>\n    <tr>\n      <th>0</th>\n      <td>ISIC_0000000</td>\n      <td>55.0</td>\n      <td>anterior torso</td>\n      <td>NaN</td>\n      <td>female</td>\n      <td>0.0</td>\n      <td>1.0</td>\n      <td>0.0</td>\n      <td>0.0</td>\n      <td>0.0</td>\n      <td>0.0</td>\n      <td>0.0</td>\n      <td>0.0</td>\n      <td>0.0</td>\n      <td>1</td>\n      <td>torso</td>\n    </tr>\n    <tr>\n      <th>1</th>\n      <td>ISIC_0000001</td>\n      <td>30.0</td>\n      <td>anterior torso</td>\n      <td>NaN</td>\n      <td>female</td>\n      <td>0.0</td>\n      <td>1.0</td>\n      <td>0.0</td>\n      <td>0.0</td>\n      <td>0.0</td>\n      <td>0.0</td>\n      <td>0.0</td>\n      <td>0.0</td>\n      <td>0.0</td>\n      <td>1</td>\n      <td>torso</td>\n    </tr>\n    <tr>\n      <th>2</th>\n      <td>ISIC_0000002</td>\n      <td>60.0</td>\n      <td>upper extremity</td>\n      <td>NaN</td>\n      <td>female</td>\n      <td>1.0</td>\n      <td>0.0</td>\n      <td>0.0</td>\n      <td>0.0</td>\n      <td>0.0</td>\n      <td>0.0</td>\n      <td>0.0</td>\n      <td>0.0</td>\n      <td>0.0</td>\n      <td>0</td>\n      <td>extremity</td>\n    </tr>\n    <tr>\n      <th>3</th>\n      <td>ISIC_0000003</td>\n      <td>30.0</td>\n      <td>upper extremity</td>\n      <td>NaN</td>\n      <td>male</td>\n      <td>0.0</td>\n      <td>1.0</td>\n      <td>0.0</td>\n      <td>0.0</td>\n      <td>0.0</td>\n      <td>0.0</td>\n      <td>0.0</td>\n      <td>0.0</td>\n      <td>0.0</td>\n      <td>1</td>\n      <td>extremity</td>\n    </tr>\n    <tr>\n      <th>4</th>\n      <td>ISIC_0000004</td>\n      <td>80.0</td>\n      <td>posterior torso</td>\n      <td>NaN</td>\n      <td>male</td>\n      <td>1.0</td>\n      <td>0.0</td>\n      <td>0.0</td>\n      <td>0.0</td>\n      <td>0.0</td>\n      <td>0.0</td>\n      <td>0.0</td>\n      <td>0.0</td>\n      <td>0.0</td>\n      <td>0</td>\n      <td>torso</td>\n    </tr>\n    <tr>\n      <th>...</th>\n      <td>...</td>\n      <td>...</td>\n      <td>...</td>\n      <td>...</td>\n      <td>...</td>\n      <td>...</td>\n      <td>...</td>\n      <td>...</td>\n      <td>...</td>\n      <td>...</td>\n      <td>...</td>\n      <td>...</td>\n      <td>...</td>\n      <td>...</td>\n      <td>...</td>\n      <td>...</td>\n    </tr>\n    <tr>\n      <th>25326</th>\n      <td>ISIC_0073247</td>\n      <td>85.0</td>\n      <td>head/neck</td>\n      <td>BCN_0003925</td>\n      <td>female</td>\n      <td>0.0</td>\n      <td>0.0</td>\n      <td>1.0</td>\n      <td>0.0</td>\n      <td>0.0</td>\n      <td>0.0</td>\n      <td>0.0</td>\n      <td>0.0</td>\n      <td>0.0</td>\n      <td>2</td>\n      <td>head/neck</td>\n    </tr>\n    <tr>\n      <th>25327</th>\n      <td>ISIC_0073248</td>\n      <td>65.0</td>\n      <td>anterior torso</td>\n      <td>BCN_0001819</td>\n      <td>male</td>\n      <td>0.0</td>\n      <td>0.0</td>\n      <td>0.0</td>\n      <td>0.0</td>\n      <td>1.0</td>\n      <td>0.0</td>\n      <td>0.0</td>\n      <td>0.0</td>\n      <td>0.0</td>\n      <td>4</td>\n      <td>torso</td>\n    </tr>\n    <tr>\n      <th>25328</th>\n      <td>ISIC_0073249</td>\n      <td>70.0</td>\n      <td>lower extremity</td>\n      <td>BCN_0001085</td>\n      <td>male</td>\n      <td>1.0</td>\n      <td>0.0</td>\n      <td>0.0</td>\n      <td>0.0</td>\n      <td>0.0</td>\n      <td>0.0</td>\n      <td>0.0</td>\n      <td>0.0</td>\n      <td>0.0</td>\n      <td>0</td>\n      <td>extremity</td>\n    </tr>\n    <tr>\n      <th>25329</th>\n      <td>ISIC_0073251</td>\n      <td>55.0</td>\n      <td>palms/soles</td>\n      <td>BCN_0002083</td>\n      <td>female</td>\n      <td>0.0</td>\n      <td>1.0</td>\n      <td>0.0</td>\n      <td>0.0</td>\n      <td>0.0</td>\n      <td>0.0</td>\n      <td>0.0</td>\n      <td>0.0</td>\n      <td>0.0</td>\n      <td>1</td>\n      <td>palms/soles</td>\n    </tr>\n    <tr>\n      <th>25330</th>\n      <td>ISIC_0073254</td>\n      <td>50.0</td>\n      <td>upper extremity</td>\n      <td>BCN_0001079</td>\n      <td>male</td>\n      <td>0.0</td>\n      <td>0.0</td>\n      <td>0.0</td>\n      <td>0.0</td>\n      <td>1.0</td>\n      <td>0.0</td>\n      <td>0.0</td>\n      <td>0.0</td>\n      <td>0.0</td>\n      <td>4</td>\n      <td>extremity</td>\n    </tr>\n  </tbody>\n</table>\n<p>24840 rows × 16 columns</p>\n</div>"
     },
     "metadata": {},
     "output_type": "display_data"
    }
   ],
   "source": [
    "# decreasing the scope of anatomy site can provide more information and so getting a more generic information\n",
    "df_cleaned['anatomy_site'] = df_cleaned['anatom_site_general'].apply(lambda anatomy: anatomy.split()[-1])\n",
    "display(df_cleaned)"
   ]
  },
  {
   "cell_type": "code",
   "execution_count": 14,
   "metadata": {
    "collapsed": false
   },
   "outputs": [],
   "source": [
    "columns_pixels = [f\"pixel_{i}\" for i in range(TARGET_SIZE[0] * TARGET_SIZE[1] * CHANNELS)]\n",
    "columns_dump = ['image', 'age_approx', 'anatom_site_general', 'sex', 'anatomy_site', *columns_pixels, 'label']\n",
    "columns_cat = ['anatom_site_general', 'sex', 'anatomy_site']"
   ]
  },
  {
   "cell_type": "code",
   "execution_count": 15,
   "outputs": [],
   "source": [
    "def build_image_df(image_names):\n",
    "    records = []\n",
    "    for img_name in image_names:\n",
    "        img = load_img(f\"{IMAGE_PATH}/{img_name}{IMAGE_PREFIX}\", target_size=TARGET_SIZE)\n",
    "        img = img_to_array(img)\n",
    "        records.append([img_name, *img.flatten()])\n",
    "    return pd.DataFrame(records, columns=[\"image\", *columns_pixels])"
   ],
   "metadata": {
    "collapsed": false
   }
  },
  {
   "cell_type": "code",
   "execution_count": 16,
   "outputs": [
    {
     "data": {
      "text/plain": "              image  pixel_0  pixel_1  pixel_2  pixel_3  pixel_4  pixel_5  \\\n0      ISIC_0000000    144.0    191.0    233.0    162.0    202.0    237.0   \n1      ISIC_0000001    135.0    134.0    142.0    150.0    148.0    151.0   \n2      ISIC_0000002      4.0      4.0      4.0      5.0      5.0      5.0   \n3      ISIC_0000003    222.0    221.0    226.0    219.0    219.0    221.0   \n4      ISIC_0000004      1.0      1.0      1.0      1.0      1.0      1.0   \n...             ...      ...      ...      ...      ...      ...      ...   \n24835  ISIC_0073247      0.0      0.0      0.0      0.0      0.0      0.0   \n24836  ISIC_0073248     99.0     93.0     97.0    112.0    105.0    112.0   \n24837  ISIC_0073249    129.0    123.0    123.0    119.0    102.0    108.0   \n24838  ISIC_0073251    143.0    120.0    136.0    149.0    128.0    143.0   \n24839  ISIC_0073254    211.0    221.0    222.0    214.0    224.0    226.0   \n\n       pixel_6  pixel_7  pixel_8  ...  pixel_3062  pixel_3063  pixel_3064  \\\n0        169.0    207.0    244.0  ...       254.0       185.0       226.0   \n1        159.0    158.0    163.0  ...       188.0       177.0       177.0   \n2          6.0      6.0      6.0  ...       215.0       111.0       140.0   \n3        217.0    217.0    219.0  ...       219.0       225.0       225.0   \n4          1.0      1.0      1.0  ...         1.0         1.0         1.0   \n...        ...      ...      ...  ...         ...         ...         ...   \n24835      0.0      0.0      0.0  ...         1.0         0.0         0.0   \n24836    121.0    116.0    123.0  ...       127.0       114.0       107.0   \n24837    106.0     88.0     88.0  ...       233.0       217.0       231.0   \n24838    150.0    132.0    146.0  ...       146.0       141.0       120.0   \n24839    216.0    223.0    231.0  ...       186.0       201.0       201.0   \n\n       pixel_3065  pixel_3066  pixel_3067  pixel_3068  pixel_3069  pixel_3070  \\\n0           254.0       188.0       233.0       255.0       183.0       227.0   \n1           187.0       177.0       177.0       187.0       174.0       174.0   \n2           208.0        76.0       101.0       165.0        35.0        49.0   \n3           227.0       225.0       225.0       227.0       225.0       225.0   \n4             1.0         1.0         1.0         1.0         1.0         1.0   \n...           ...         ...         ...         ...         ...         ...   \n24835         0.0         1.0         1.0         1.0         0.0         0.0   \n24836       114.0       104.0        96.0       107.0        83.0        73.0   \n24837       232.0       215.0       226.0       228.0       210.0       221.0   \n24838       137.0       135.0       114.0       129.0       123.0       103.0   \n24839       199.0       198.0       200.0       197.0       195.0       190.0   \n\n       pixel_3071  \n0           254.0  \n1           186.0  \n2            84.0  \n3           227.0  \n4             1.0  \n...           ...  \n24835         0.0  \n24836        81.0  \n24837       223.0  \n24838       115.0  \n24839       184.0  \n\n[24840 rows x 3073 columns]",
      "text/html": "<div>\n<style scoped>\n    .dataframe tbody tr th:only-of-type {\n        vertical-align: middle;\n    }\n\n    .dataframe tbody tr th {\n        vertical-align: top;\n    }\n\n    .dataframe thead th {\n        text-align: right;\n    }\n</style>\n<table border=\"1\" class=\"dataframe\">\n  <thead>\n    <tr style=\"text-align: right;\">\n      <th></th>\n      <th>image</th>\n      <th>pixel_0</th>\n      <th>pixel_1</th>\n      <th>pixel_2</th>\n      <th>pixel_3</th>\n      <th>pixel_4</th>\n      <th>pixel_5</th>\n      <th>pixel_6</th>\n      <th>pixel_7</th>\n      <th>pixel_8</th>\n      <th>...</th>\n      <th>pixel_3062</th>\n      <th>pixel_3063</th>\n      <th>pixel_3064</th>\n      <th>pixel_3065</th>\n      <th>pixel_3066</th>\n      <th>pixel_3067</th>\n      <th>pixel_3068</th>\n      <th>pixel_3069</th>\n      <th>pixel_3070</th>\n      <th>pixel_3071</th>\n    </tr>\n  </thead>\n  <tbody>\n    <tr>\n      <th>0</th>\n      <td>ISIC_0000000</td>\n      <td>144.0</td>\n      <td>191.0</td>\n      <td>233.0</td>\n      <td>162.0</td>\n      <td>202.0</td>\n      <td>237.0</td>\n      <td>169.0</td>\n      <td>207.0</td>\n      <td>244.0</td>\n      <td>...</td>\n      <td>254.0</td>\n      <td>185.0</td>\n      <td>226.0</td>\n      <td>254.0</td>\n      <td>188.0</td>\n      <td>233.0</td>\n      <td>255.0</td>\n      <td>183.0</td>\n      <td>227.0</td>\n      <td>254.0</td>\n    </tr>\n    <tr>\n      <th>1</th>\n      <td>ISIC_0000001</td>\n      <td>135.0</td>\n      <td>134.0</td>\n      <td>142.0</td>\n      <td>150.0</td>\n      <td>148.0</td>\n      <td>151.0</td>\n      <td>159.0</td>\n      <td>158.0</td>\n      <td>163.0</td>\n      <td>...</td>\n      <td>188.0</td>\n      <td>177.0</td>\n      <td>177.0</td>\n      <td>187.0</td>\n      <td>177.0</td>\n      <td>177.0</td>\n      <td>187.0</td>\n      <td>174.0</td>\n      <td>174.0</td>\n      <td>186.0</td>\n    </tr>\n    <tr>\n      <th>2</th>\n      <td>ISIC_0000002</td>\n      <td>4.0</td>\n      <td>4.0</td>\n      <td>4.0</td>\n      <td>5.0</td>\n      <td>5.0</td>\n      <td>5.0</td>\n      <td>6.0</td>\n      <td>6.0</td>\n      <td>6.0</td>\n      <td>...</td>\n      <td>215.0</td>\n      <td>111.0</td>\n      <td>140.0</td>\n      <td>208.0</td>\n      <td>76.0</td>\n      <td>101.0</td>\n      <td>165.0</td>\n      <td>35.0</td>\n      <td>49.0</td>\n      <td>84.0</td>\n    </tr>\n    <tr>\n      <th>3</th>\n      <td>ISIC_0000003</td>\n      <td>222.0</td>\n      <td>221.0</td>\n      <td>226.0</td>\n      <td>219.0</td>\n      <td>219.0</td>\n      <td>221.0</td>\n      <td>217.0</td>\n      <td>217.0</td>\n      <td>219.0</td>\n      <td>...</td>\n      <td>219.0</td>\n      <td>225.0</td>\n      <td>225.0</td>\n      <td>227.0</td>\n      <td>225.0</td>\n      <td>225.0</td>\n      <td>227.0</td>\n      <td>225.0</td>\n      <td>225.0</td>\n      <td>227.0</td>\n    </tr>\n    <tr>\n      <th>4</th>\n      <td>ISIC_0000004</td>\n      <td>1.0</td>\n      <td>1.0</td>\n      <td>1.0</td>\n      <td>1.0</td>\n      <td>1.0</td>\n      <td>1.0</td>\n      <td>1.0</td>\n      <td>1.0</td>\n      <td>1.0</td>\n      <td>...</td>\n      <td>1.0</td>\n      <td>1.0</td>\n      <td>1.0</td>\n      <td>1.0</td>\n      <td>1.0</td>\n      <td>1.0</td>\n      <td>1.0</td>\n      <td>1.0</td>\n      <td>1.0</td>\n      <td>1.0</td>\n    </tr>\n    <tr>\n      <th>...</th>\n      <td>...</td>\n      <td>...</td>\n      <td>...</td>\n      <td>...</td>\n      <td>...</td>\n      <td>...</td>\n      <td>...</td>\n      <td>...</td>\n      <td>...</td>\n      <td>...</td>\n      <td>...</td>\n      <td>...</td>\n      <td>...</td>\n      <td>...</td>\n      <td>...</td>\n      <td>...</td>\n      <td>...</td>\n      <td>...</td>\n      <td>...</td>\n      <td>...</td>\n      <td>...</td>\n    </tr>\n    <tr>\n      <th>24835</th>\n      <td>ISIC_0073247</td>\n      <td>0.0</td>\n      <td>0.0</td>\n      <td>0.0</td>\n      <td>0.0</td>\n      <td>0.0</td>\n      <td>0.0</td>\n      <td>0.0</td>\n      <td>0.0</td>\n      <td>0.0</td>\n      <td>...</td>\n      <td>1.0</td>\n      <td>0.0</td>\n      <td>0.0</td>\n      <td>0.0</td>\n      <td>1.0</td>\n      <td>1.0</td>\n      <td>1.0</td>\n      <td>0.0</td>\n      <td>0.0</td>\n      <td>0.0</td>\n    </tr>\n    <tr>\n      <th>24836</th>\n      <td>ISIC_0073248</td>\n      <td>99.0</td>\n      <td>93.0</td>\n      <td>97.0</td>\n      <td>112.0</td>\n      <td>105.0</td>\n      <td>112.0</td>\n      <td>121.0</td>\n      <td>116.0</td>\n      <td>123.0</td>\n      <td>...</td>\n      <td>127.0</td>\n      <td>114.0</td>\n      <td>107.0</td>\n      <td>114.0</td>\n      <td>104.0</td>\n      <td>96.0</td>\n      <td>107.0</td>\n      <td>83.0</td>\n      <td>73.0</td>\n      <td>81.0</td>\n    </tr>\n    <tr>\n      <th>24837</th>\n      <td>ISIC_0073249</td>\n      <td>129.0</td>\n      <td>123.0</td>\n      <td>123.0</td>\n      <td>119.0</td>\n      <td>102.0</td>\n      <td>108.0</td>\n      <td>106.0</td>\n      <td>88.0</td>\n      <td>88.0</td>\n      <td>...</td>\n      <td>233.0</td>\n      <td>217.0</td>\n      <td>231.0</td>\n      <td>232.0</td>\n      <td>215.0</td>\n      <td>226.0</td>\n      <td>228.0</td>\n      <td>210.0</td>\n      <td>221.0</td>\n      <td>223.0</td>\n    </tr>\n    <tr>\n      <th>24838</th>\n      <td>ISIC_0073251</td>\n      <td>143.0</td>\n      <td>120.0</td>\n      <td>136.0</td>\n      <td>149.0</td>\n      <td>128.0</td>\n      <td>143.0</td>\n      <td>150.0</td>\n      <td>132.0</td>\n      <td>146.0</td>\n      <td>...</td>\n      <td>146.0</td>\n      <td>141.0</td>\n      <td>120.0</td>\n      <td>137.0</td>\n      <td>135.0</td>\n      <td>114.0</td>\n      <td>129.0</td>\n      <td>123.0</td>\n      <td>103.0</td>\n      <td>115.0</td>\n    </tr>\n    <tr>\n      <th>24839</th>\n      <td>ISIC_0073254</td>\n      <td>211.0</td>\n      <td>221.0</td>\n      <td>222.0</td>\n      <td>214.0</td>\n      <td>224.0</td>\n      <td>226.0</td>\n      <td>216.0</td>\n      <td>223.0</td>\n      <td>231.0</td>\n      <td>...</td>\n      <td>186.0</td>\n      <td>201.0</td>\n      <td>201.0</td>\n      <td>199.0</td>\n      <td>198.0</td>\n      <td>200.0</td>\n      <td>197.0</td>\n      <td>195.0</td>\n      <td>190.0</td>\n      <td>184.0</td>\n    </tr>\n  </tbody>\n</table>\n<p>24840 rows × 3073 columns</p>\n</div>"
     },
     "metadata": {},
     "output_type": "display_data"
    }
   ],
   "source": [
    "df_image = build_image_df(df_cleaned['image'])\n",
    "display(df_image)"
   ],
   "metadata": {
    "collapsed": false
   }
  },
  {
   "cell_type": "code",
   "execution_count": 17,
   "outputs": [
    {
     "data": {
      "text/plain": "              image  age_approx anatom_site_general    lesion_id     sex  MEL  \\\n0      ISIC_0000000        55.0      anterior torso          NaN  female  0.0   \n1      ISIC_0000001        30.0      anterior torso          NaN  female  0.0   \n2      ISIC_0000002        60.0     upper extremity          NaN  female  1.0   \n3      ISIC_0000003        30.0     upper extremity          NaN    male  0.0   \n4      ISIC_0000004        80.0     posterior torso          NaN    male  1.0   \n...             ...         ...                 ...          ...     ...  ...   \n25326  ISIC_0073247        85.0           head/neck  BCN_0003925  female  0.0   \n25327  ISIC_0073248        65.0      anterior torso  BCN_0001819    male  0.0   \n25328  ISIC_0073249        70.0     lower extremity  BCN_0001085    male  1.0   \n25329  ISIC_0073251        55.0         palms/soles  BCN_0002083  female  0.0   \n25330  ISIC_0073254        50.0     upper extremity  BCN_0001079    male  0.0   \n\n        NV  BCC   AK  BKL  ...  pixel_3062  pixel_3063  pixel_3064  \\\n0      1.0  0.0  0.0  0.0  ...       254.0       185.0       226.0   \n1      1.0  0.0  0.0  0.0  ...       188.0       177.0       177.0   \n2      0.0  0.0  0.0  0.0  ...       215.0       111.0       140.0   \n3      1.0  0.0  0.0  0.0  ...       219.0       225.0       225.0   \n4      0.0  0.0  0.0  0.0  ...         1.0         1.0         1.0   \n...    ...  ...  ...  ...  ...         ...         ...         ...   \n25326  0.0  1.0  0.0  0.0  ...         1.0         0.0         0.0   \n25327  0.0  0.0  0.0  1.0  ...       127.0       114.0       107.0   \n25328  0.0  0.0  0.0  0.0  ...       233.0       217.0       231.0   \n25329  1.0  0.0  0.0  0.0  ...       146.0       141.0       120.0   \n25330  0.0  0.0  0.0  1.0  ...       186.0       201.0       201.0   \n\n       pixel_3065  pixel_3066 pixel_3067  pixel_3068  pixel_3069  pixel_3070  \\\n0           254.0       188.0      233.0       255.0       183.0       227.0   \n1           187.0       177.0      177.0       187.0       174.0       174.0   \n2           208.0        76.0      101.0       165.0        35.0        49.0   \n3           227.0       225.0      225.0       227.0       225.0       225.0   \n4             1.0         1.0        1.0         1.0         1.0         1.0   \n...           ...         ...        ...         ...         ...         ...   \n25326         0.0         1.0        1.0         1.0         0.0         0.0   \n25327       114.0       104.0       96.0       107.0        83.0        73.0   \n25328       232.0       215.0      226.0       228.0       210.0       221.0   \n25329       137.0       135.0      114.0       129.0       123.0       103.0   \n25330       199.0       198.0      200.0       197.0       195.0       190.0   \n\n       pixel_3071  \n0           254.0  \n1           186.0  \n2            84.0  \n3           227.0  \n4             1.0  \n...           ...  \n25326         0.0  \n25327        81.0  \n25328       223.0  \n25329       115.0  \n25330       184.0  \n\n[24840 rows x 3088 columns]",
      "text/html": "<div>\n<style scoped>\n    .dataframe tbody tr th:only-of-type {\n        vertical-align: middle;\n    }\n\n    .dataframe tbody tr th {\n        vertical-align: top;\n    }\n\n    .dataframe thead th {\n        text-align: right;\n    }\n</style>\n<table border=\"1\" class=\"dataframe\">\n  <thead>\n    <tr style=\"text-align: right;\">\n      <th></th>\n      <th>image</th>\n      <th>age_approx</th>\n      <th>anatom_site_general</th>\n      <th>lesion_id</th>\n      <th>sex</th>\n      <th>MEL</th>\n      <th>NV</th>\n      <th>BCC</th>\n      <th>AK</th>\n      <th>BKL</th>\n      <th>...</th>\n      <th>pixel_3062</th>\n      <th>pixel_3063</th>\n      <th>pixel_3064</th>\n      <th>pixel_3065</th>\n      <th>pixel_3066</th>\n      <th>pixel_3067</th>\n      <th>pixel_3068</th>\n      <th>pixel_3069</th>\n      <th>pixel_3070</th>\n      <th>pixel_3071</th>\n    </tr>\n  </thead>\n  <tbody>\n    <tr>\n      <th>0</th>\n      <td>ISIC_0000000</td>\n      <td>55.0</td>\n      <td>anterior torso</td>\n      <td>NaN</td>\n      <td>female</td>\n      <td>0.0</td>\n      <td>1.0</td>\n      <td>0.0</td>\n      <td>0.0</td>\n      <td>0.0</td>\n      <td>...</td>\n      <td>254.0</td>\n      <td>185.0</td>\n      <td>226.0</td>\n      <td>254.0</td>\n      <td>188.0</td>\n      <td>233.0</td>\n      <td>255.0</td>\n      <td>183.0</td>\n      <td>227.0</td>\n      <td>254.0</td>\n    </tr>\n    <tr>\n      <th>1</th>\n      <td>ISIC_0000001</td>\n      <td>30.0</td>\n      <td>anterior torso</td>\n      <td>NaN</td>\n      <td>female</td>\n      <td>0.0</td>\n      <td>1.0</td>\n      <td>0.0</td>\n      <td>0.0</td>\n      <td>0.0</td>\n      <td>...</td>\n      <td>188.0</td>\n      <td>177.0</td>\n      <td>177.0</td>\n      <td>187.0</td>\n      <td>177.0</td>\n      <td>177.0</td>\n      <td>187.0</td>\n      <td>174.0</td>\n      <td>174.0</td>\n      <td>186.0</td>\n    </tr>\n    <tr>\n      <th>2</th>\n      <td>ISIC_0000002</td>\n      <td>60.0</td>\n      <td>upper extremity</td>\n      <td>NaN</td>\n      <td>female</td>\n      <td>1.0</td>\n      <td>0.0</td>\n      <td>0.0</td>\n      <td>0.0</td>\n      <td>0.0</td>\n      <td>...</td>\n      <td>215.0</td>\n      <td>111.0</td>\n      <td>140.0</td>\n      <td>208.0</td>\n      <td>76.0</td>\n      <td>101.0</td>\n      <td>165.0</td>\n      <td>35.0</td>\n      <td>49.0</td>\n      <td>84.0</td>\n    </tr>\n    <tr>\n      <th>3</th>\n      <td>ISIC_0000003</td>\n      <td>30.0</td>\n      <td>upper extremity</td>\n      <td>NaN</td>\n      <td>male</td>\n      <td>0.0</td>\n      <td>1.0</td>\n      <td>0.0</td>\n      <td>0.0</td>\n      <td>0.0</td>\n      <td>...</td>\n      <td>219.0</td>\n      <td>225.0</td>\n      <td>225.0</td>\n      <td>227.0</td>\n      <td>225.0</td>\n      <td>225.0</td>\n      <td>227.0</td>\n      <td>225.0</td>\n      <td>225.0</td>\n      <td>227.0</td>\n    </tr>\n    <tr>\n      <th>4</th>\n      <td>ISIC_0000004</td>\n      <td>80.0</td>\n      <td>posterior torso</td>\n      <td>NaN</td>\n      <td>male</td>\n      <td>1.0</td>\n      <td>0.0</td>\n      <td>0.0</td>\n      <td>0.0</td>\n      <td>0.0</td>\n      <td>...</td>\n      <td>1.0</td>\n      <td>1.0</td>\n      <td>1.0</td>\n      <td>1.0</td>\n      <td>1.0</td>\n      <td>1.0</td>\n      <td>1.0</td>\n      <td>1.0</td>\n      <td>1.0</td>\n      <td>1.0</td>\n    </tr>\n    <tr>\n      <th>...</th>\n      <td>...</td>\n      <td>...</td>\n      <td>...</td>\n      <td>...</td>\n      <td>...</td>\n      <td>...</td>\n      <td>...</td>\n      <td>...</td>\n      <td>...</td>\n      <td>...</td>\n      <td>...</td>\n      <td>...</td>\n      <td>...</td>\n      <td>...</td>\n      <td>...</td>\n      <td>...</td>\n      <td>...</td>\n      <td>...</td>\n      <td>...</td>\n      <td>...</td>\n      <td>...</td>\n    </tr>\n    <tr>\n      <th>25326</th>\n      <td>ISIC_0073247</td>\n      <td>85.0</td>\n      <td>head/neck</td>\n      <td>BCN_0003925</td>\n      <td>female</td>\n      <td>0.0</td>\n      <td>0.0</td>\n      <td>1.0</td>\n      <td>0.0</td>\n      <td>0.0</td>\n      <td>...</td>\n      <td>1.0</td>\n      <td>0.0</td>\n      <td>0.0</td>\n      <td>0.0</td>\n      <td>1.0</td>\n      <td>1.0</td>\n      <td>1.0</td>\n      <td>0.0</td>\n      <td>0.0</td>\n      <td>0.0</td>\n    </tr>\n    <tr>\n      <th>25327</th>\n      <td>ISIC_0073248</td>\n      <td>65.0</td>\n      <td>anterior torso</td>\n      <td>BCN_0001819</td>\n      <td>male</td>\n      <td>0.0</td>\n      <td>0.0</td>\n      <td>0.0</td>\n      <td>0.0</td>\n      <td>1.0</td>\n      <td>...</td>\n      <td>127.0</td>\n      <td>114.0</td>\n      <td>107.0</td>\n      <td>114.0</td>\n      <td>104.0</td>\n      <td>96.0</td>\n      <td>107.0</td>\n      <td>83.0</td>\n      <td>73.0</td>\n      <td>81.0</td>\n    </tr>\n    <tr>\n      <th>25328</th>\n      <td>ISIC_0073249</td>\n      <td>70.0</td>\n      <td>lower extremity</td>\n      <td>BCN_0001085</td>\n      <td>male</td>\n      <td>1.0</td>\n      <td>0.0</td>\n      <td>0.0</td>\n      <td>0.0</td>\n      <td>0.0</td>\n      <td>...</td>\n      <td>233.0</td>\n      <td>217.0</td>\n      <td>231.0</td>\n      <td>232.0</td>\n      <td>215.0</td>\n      <td>226.0</td>\n      <td>228.0</td>\n      <td>210.0</td>\n      <td>221.0</td>\n      <td>223.0</td>\n    </tr>\n    <tr>\n      <th>25329</th>\n      <td>ISIC_0073251</td>\n      <td>55.0</td>\n      <td>palms/soles</td>\n      <td>BCN_0002083</td>\n      <td>female</td>\n      <td>0.0</td>\n      <td>1.0</td>\n      <td>0.0</td>\n      <td>0.0</td>\n      <td>0.0</td>\n      <td>...</td>\n      <td>146.0</td>\n      <td>141.0</td>\n      <td>120.0</td>\n      <td>137.0</td>\n      <td>135.0</td>\n      <td>114.0</td>\n      <td>129.0</td>\n      <td>123.0</td>\n      <td>103.0</td>\n      <td>115.0</td>\n    </tr>\n    <tr>\n      <th>25330</th>\n      <td>ISIC_0073254</td>\n      <td>50.0</td>\n      <td>upper extremity</td>\n      <td>BCN_0001079</td>\n      <td>male</td>\n      <td>0.0</td>\n      <td>0.0</td>\n      <td>0.0</td>\n      <td>0.0</td>\n      <td>1.0</td>\n      <td>...</td>\n      <td>186.0</td>\n      <td>201.0</td>\n      <td>201.0</td>\n      <td>199.0</td>\n      <td>198.0</td>\n      <td>200.0</td>\n      <td>197.0</td>\n      <td>195.0</td>\n      <td>190.0</td>\n      <td>184.0</td>\n    </tr>\n  </tbody>\n</table>\n<p>24840 rows × 3088 columns</p>\n</div>"
     },
     "metadata": {},
     "output_type": "display_data"
    }
   ],
   "source": [
    "df_complete = df_cleaned.join(df_image.set_index('image'), on='image', how='left')\n",
    "display(df_complete)"
   ],
   "metadata": {
    "collapsed": false
   }
  },
  {
   "cell_type": "code",
   "execution_count": 18,
   "metadata": {
    "collapsed": false
   },
   "outputs": [
    {
     "data": {
      "text/plain": "       image  age_approx  pixel_0  pixel_1  pixel_2  pixel_3  pixel_4  \\\n0          0        55.0    144.0    191.0    233.0    162.0    202.0   \n1          1        30.0    135.0    134.0    142.0    150.0    148.0   \n2          2        60.0      4.0      4.0      4.0      5.0      5.0   \n3          3        30.0    222.0    221.0    226.0    219.0    219.0   \n4          4        80.0      1.0      1.0      1.0      1.0      1.0   \n...      ...         ...      ...      ...      ...      ...      ...   \n25326  24835        85.0      0.0      0.0      0.0      0.0      0.0   \n25327  24836        65.0     99.0     93.0     97.0    112.0    105.0   \n25328  24837        70.0    129.0    123.0    123.0    119.0    102.0   \n25329  24838        55.0    143.0    120.0    136.0    149.0    128.0   \n25330  24839        50.0    211.0    221.0    222.0    214.0    224.0   \n\n       pixel_5  pixel_6  pixel_7  ...  anatom_site_general_unknown  \\\n0        237.0    169.0    207.0  ...                            0   \n1        151.0    159.0    158.0  ...                            0   \n2          5.0      6.0      6.0  ...                            0   \n3        221.0    217.0    217.0  ...                            0   \n4          1.0      1.0      1.0  ...                            0   \n...        ...      ...      ...  ...                          ...   \n25326      0.0      0.0      0.0  ...                            0   \n25327    112.0    121.0    116.0  ...                            0   \n25328    108.0    106.0     88.0  ...                            0   \n25329    143.0    150.0    132.0  ...                            0   \n25330    226.0    216.0    223.0  ...                            0   \n\n       anatom_site_general_upper extremity  sex_female  sex_male  \\\n0                                        0           1         0   \n1                                        0           1         0   \n2                                        1           1         0   \n3                                        1           0         1   \n4                                        0           0         1   \n...                                    ...         ...       ...   \n25326                                    0           1         0   \n25327                                    0           0         1   \n25328                                    0           0         1   \n25329                                    0           1         0   \n25330                                    1           0         1   \n\n       anatomy_site_extremity  anatomy_site_head/neck  \\\n0                           0                       0   \n1                           0                       0   \n2                           1                       0   \n3                           1                       0   \n4                           0                       0   \n...                       ...                     ...   \n25326                       0                       1   \n25327                       0                       0   \n25328                       1                       0   \n25329                       0                       0   \n25330                       1                       0   \n\n       anatomy_site_oral/genital  anatomy_site_palms/soles  \\\n0                              0                         0   \n1                              0                         0   \n2                              0                         0   \n3                              0                         0   \n4                              0                         0   \n...                          ...                       ...   \n25326                          0                         0   \n25327                          0                         0   \n25328                          0                         0   \n25329                          0                         1   \n25330                          0                         0   \n\n       anatomy_site_torso  anatomy_site_unknown  \n0                       1                     0  \n1                       1                     0  \n2                       0                     0  \n3                       0                     0  \n4                       1                     0  \n...                   ...                   ...  \n25326                   0                     0  \n25327                   1                     0  \n25328                   0                     0  \n25329                   0                     0  \n25330                   0                     0  \n\n[24840 rows x 3092 columns]",
      "text/html": "<div>\n<style scoped>\n    .dataframe tbody tr th:only-of-type {\n        vertical-align: middle;\n    }\n\n    .dataframe tbody tr th {\n        vertical-align: top;\n    }\n\n    .dataframe thead th {\n        text-align: right;\n    }\n</style>\n<table border=\"1\" class=\"dataframe\">\n  <thead>\n    <tr style=\"text-align: right;\">\n      <th></th>\n      <th>image</th>\n      <th>age_approx</th>\n      <th>pixel_0</th>\n      <th>pixel_1</th>\n      <th>pixel_2</th>\n      <th>pixel_3</th>\n      <th>pixel_4</th>\n      <th>pixel_5</th>\n      <th>pixel_6</th>\n      <th>pixel_7</th>\n      <th>...</th>\n      <th>anatom_site_general_unknown</th>\n      <th>anatom_site_general_upper extremity</th>\n      <th>sex_female</th>\n      <th>sex_male</th>\n      <th>anatomy_site_extremity</th>\n      <th>anatomy_site_head/neck</th>\n      <th>anatomy_site_oral/genital</th>\n      <th>anatomy_site_palms/soles</th>\n      <th>anatomy_site_torso</th>\n      <th>anatomy_site_unknown</th>\n    </tr>\n  </thead>\n  <tbody>\n    <tr>\n      <th>0</th>\n      <td>0</td>\n      <td>55.0</td>\n      <td>144.0</td>\n      <td>191.0</td>\n      <td>233.0</td>\n      <td>162.0</td>\n      <td>202.0</td>\n      <td>237.0</td>\n      <td>169.0</td>\n      <td>207.0</td>\n      <td>...</td>\n      <td>0</td>\n      <td>0</td>\n      <td>1</td>\n      <td>0</td>\n      <td>0</td>\n      <td>0</td>\n      <td>0</td>\n      <td>0</td>\n      <td>1</td>\n      <td>0</td>\n    </tr>\n    <tr>\n      <th>1</th>\n      <td>1</td>\n      <td>30.0</td>\n      <td>135.0</td>\n      <td>134.0</td>\n      <td>142.0</td>\n      <td>150.0</td>\n      <td>148.0</td>\n      <td>151.0</td>\n      <td>159.0</td>\n      <td>158.0</td>\n      <td>...</td>\n      <td>0</td>\n      <td>0</td>\n      <td>1</td>\n      <td>0</td>\n      <td>0</td>\n      <td>0</td>\n      <td>0</td>\n      <td>0</td>\n      <td>1</td>\n      <td>0</td>\n    </tr>\n    <tr>\n      <th>2</th>\n      <td>2</td>\n      <td>60.0</td>\n      <td>4.0</td>\n      <td>4.0</td>\n      <td>4.0</td>\n      <td>5.0</td>\n      <td>5.0</td>\n      <td>5.0</td>\n      <td>6.0</td>\n      <td>6.0</td>\n      <td>...</td>\n      <td>0</td>\n      <td>1</td>\n      <td>1</td>\n      <td>0</td>\n      <td>1</td>\n      <td>0</td>\n      <td>0</td>\n      <td>0</td>\n      <td>0</td>\n      <td>0</td>\n    </tr>\n    <tr>\n      <th>3</th>\n      <td>3</td>\n      <td>30.0</td>\n      <td>222.0</td>\n      <td>221.0</td>\n      <td>226.0</td>\n      <td>219.0</td>\n      <td>219.0</td>\n      <td>221.0</td>\n      <td>217.0</td>\n      <td>217.0</td>\n      <td>...</td>\n      <td>0</td>\n      <td>1</td>\n      <td>0</td>\n      <td>1</td>\n      <td>1</td>\n      <td>0</td>\n      <td>0</td>\n      <td>0</td>\n      <td>0</td>\n      <td>0</td>\n    </tr>\n    <tr>\n      <th>4</th>\n      <td>4</td>\n      <td>80.0</td>\n      <td>1.0</td>\n      <td>1.0</td>\n      <td>1.0</td>\n      <td>1.0</td>\n      <td>1.0</td>\n      <td>1.0</td>\n      <td>1.0</td>\n      <td>1.0</td>\n      <td>...</td>\n      <td>0</td>\n      <td>0</td>\n      <td>0</td>\n      <td>1</td>\n      <td>0</td>\n      <td>0</td>\n      <td>0</td>\n      <td>0</td>\n      <td>1</td>\n      <td>0</td>\n    </tr>\n    <tr>\n      <th>...</th>\n      <td>...</td>\n      <td>...</td>\n      <td>...</td>\n      <td>...</td>\n      <td>...</td>\n      <td>...</td>\n      <td>...</td>\n      <td>...</td>\n      <td>...</td>\n      <td>...</td>\n      <td>...</td>\n      <td>...</td>\n      <td>...</td>\n      <td>...</td>\n      <td>...</td>\n      <td>...</td>\n      <td>...</td>\n      <td>...</td>\n      <td>...</td>\n      <td>...</td>\n      <td>...</td>\n    </tr>\n    <tr>\n      <th>25326</th>\n      <td>24835</td>\n      <td>85.0</td>\n      <td>0.0</td>\n      <td>0.0</td>\n      <td>0.0</td>\n      <td>0.0</td>\n      <td>0.0</td>\n      <td>0.0</td>\n      <td>0.0</td>\n      <td>0.0</td>\n      <td>...</td>\n      <td>0</td>\n      <td>0</td>\n      <td>1</td>\n      <td>0</td>\n      <td>0</td>\n      <td>1</td>\n      <td>0</td>\n      <td>0</td>\n      <td>0</td>\n      <td>0</td>\n    </tr>\n    <tr>\n      <th>25327</th>\n      <td>24836</td>\n      <td>65.0</td>\n      <td>99.0</td>\n      <td>93.0</td>\n      <td>97.0</td>\n      <td>112.0</td>\n      <td>105.0</td>\n      <td>112.0</td>\n      <td>121.0</td>\n      <td>116.0</td>\n      <td>...</td>\n      <td>0</td>\n      <td>0</td>\n      <td>0</td>\n      <td>1</td>\n      <td>0</td>\n      <td>0</td>\n      <td>0</td>\n      <td>0</td>\n      <td>1</td>\n      <td>0</td>\n    </tr>\n    <tr>\n      <th>25328</th>\n      <td>24837</td>\n      <td>70.0</td>\n      <td>129.0</td>\n      <td>123.0</td>\n      <td>123.0</td>\n      <td>119.0</td>\n      <td>102.0</td>\n      <td>108.0</td>\n      <td>106.0</td>\n      <td>88.0</td>\n      <td>...</td>\n      <td>0</td>\n      <td>0</td>\n      <td>0</td>\n      <td>1</td>\n      <td>1</td>\n      <td>0</td>\n      <td>0</td>\n      <td>0</td>\n      <td>0</td>\n      <td>0</td>\n    </tr>\n    <tr>\n      <th>25329</th>\n      <td>24838</td>\n      <td>55.0</td>\n      <td>143.0</td>\n      <td>120.0</td>\n      <td>136.0</td>\n      <td>149.0</td>\n      <td>128.0</td>\n      <td>143.0</td>\n      <td>150.0</td>\n      <td>132.0</td>\n      <td>...</td>\n      <td>0</td>\n      <td>0</td>\n      <td>1</td>\n      <td>0</td>\n      <td>0</td>\n      <td>0</td>\n      <td>0</td>\n      <td>1</td>\n      <td>0</td>\n      <td>0</td>\n    </tr>\n    <tr>\n      <th>25330</th>\n      <td>24839</td>\n      <td>50.0</td>\n      <td>211.0</td>\n      <td>221.0</td>\n      <td>222.0</td>\n      <td>214.0</td>\n      <td>224.0</td>\n      <td>226.0</td>\n      <td>216.0</td>\n      <td>223.0</td>\n      <td>...</td>\n      <td>0</td>\n      <td>1</td>\n      <td>0</td>\n      <td>1</td>\n      <td>1</td>\n      <td>0</td>\n      <td>0</td>\n      <td>0</td>\n      <td>0</td>\n      <td>0</td>\n    </tr>\n  </tbody>\n</table>\n<p>24840 rows × 3092 columns</p>\n</div>"
     },
     "metadata": {},
     "output_type": "display_data"
    },
    {
     "data": {
      "text/plain": "              image    age_approx       pixel_0       pixel_1       pixel_2  \\\ncount  24840.000000  24840.000000  24840.000000  24840.000000  24840.000000   \nmean   12419.500000     54.145934    123.411194     99.411636    102.223549   \nstd     7170.834679     17.974619     89.094986     72.416664     75.291954   \nmin        0.000000      5.000000      0.000000      0.000000      0.000000   \n25%     6209.750000     40.000000      6.000000      6.000000      6.000000   \n50%    12419.500000     55.000000    153.000000    122.000000    124.000000   \n75%    18629.250000     70.000000    201.000000    158.000000    166.000000   \nmax    24839.000000     85.000000    255.000000    255.000000    255.000000   \n\n            pixel_3       pixel_4       pixel_5       pixel_6       pixel_7  \\\ncount  24840.000000  24840.000000  24840.000000  24840.000000  24840.000000   \nmean     131.498428    106.423790    109.140900    137.425644    111.619522   \nstd       86.965065     71.187691     74.116867     85.213074     70.088135   \nmin        0.000000      0.000000      0.000000      0.000000      0.000000   \n25%       24.000000     19.000000     20.000000     55.000000     45.000000   \n50%      161.000000    129.000000    132.000000    166.000000    134.000000   \n75%      203.000000    161.000000    169.000000    205.000000    164.000000   \nmax      255.000000    255.000000    255.000000    255.000000    255.000000   \n\n       ...  anatom_site_general_unknown  anatom_site_general_upper extremity  \\\ncount  ...                 24840.000000                         24840.000000   \nmean   ...                     0.097182                             0.115580   \nstd    ...                     0.296211                             0.319727   \nmin    ...                     0.000000                             0.000000   \n25%    ...                     0.000000                             0.000000   \n50%    ...                     0.000000                             0.000000   \n75%    ...                     0.000000                             0.000000   \nmax    ...                     1.000000                             1.000000   \n\n        sex_female     sex_male  anatomy_site_extremity  \\\ncount  24840.00000  24840.00000            24840.000000   \nmean       0.46715      0.53285                0.314332   \nstd        0.49893      0.49893                0.464259   \nmin        0.00000      0.00000                0.000000   \n25%        0.00000      0.00000                0.000000   \n50%        0.00000      1.00000                0.000000   \n75%        1.00000      1.00000                1.000000   \nmax        1.00000      1.00000                1.000000   \n\n       anatomy_site_head/neck  anatomy_site_oral/genital  \\\ncount            24840.000000               24840.000000   \nmean                 0.184018                   0.002375   \nstd                  0.387506                   0.048679   \nmin                  0.000000                   0.000000   \n25%                  0.000000                   0.000000   \n50%                  0.000000                   0.000000   \n75%                  0.000000                   0.000000   \nmax                  1.000000                   1.000000   \n\n       anatomy_site_palms/soles  anatomy_site_torso  anatomy_site_unknown  \ncount               24840.00000        24840.000000          24840.000000  \nmean                    0.01566            0.386433              0.097182  \nstd                     0.12416            0.486942              0.296211  \nmin                     0.00000            0.000000              0.000000  \n25%                     0.00000            0.000000              0.000000  \n50%                     0.00000            0.000000              0.000000  \n75%                     0.00000            1.000000              0.000000  \nmax                     1.00000            1.000000              1.000000  \n\n[8 rows x 3092 columns]",
      "text/html": "<div>\n<style scoped>\n    .dataframe tbody tr th:only-of-type {\n        vertical-align: middle;\n    }\n\n    .dataframe tbody tr th {\n        vertical-align: top;\n    }\n\n    .dataframe thead th {\n        text-align: right;\n    }\n</style>\n<table border=\"1\" class=\"dataframe\">\n  <thead>\n    <tr style=\"text-align: right;\">\n      <th></th>\n      <th>image</th>\n      <th>age_approx</th>\n      <th>pixel_0</th>\n      <th>pixel_1</th>\n      <th>pixel_2</th>\n      <th>pixel_3</th>\n      <th>pixel_4</th>\n      <th>pixel_5</th>\n      <th>pixel_6</th>\n      <th>pixel_7</th>\n      <th>...</th>\n      <th>anatom_site_general_unknown</th>\n      <th>anatom_site_general_upper extremity</th>\n      <th>sex_female</th>\n      <th>sex_male</th>\n      <th>anatomy_site_extremity</th>\n      <th>anatomy_site_head/neck</th>\n      <th>anatomy_site_oral/genital</th>\n      <th>anatomy_site_palms/soles</th>\n      <th>anatomy_site_torso</th>\n      <th>anatomy_site_unknown</th>\n    </tr>\n  </thead>\n  <tbody>\n    <tr>\n      <th>count</th>\n      <td>24840.000000</td>\n      <td>24840.000000</td>\n      <td>24840.000000</td>\n      <td>24840.000000</td>\n      <td>24840.000000</td>\n      <td>24840.000000</td>\n      <td>24840.000000</td>\n      <td>24840.000000</td>\n      <td>24840.000000</td>\n      <td>24840.000000</td>\n      <td>...</td>\n      <td>24840.000000</td>\n      <td>24840.000000</td>\n      <td>24840.00000</td>\n      <td>24840.00000</td>\n      <td>24840.000000</td>\n      <td>24840.000000</td>\n      <td>24840.000000</td>\n      <td>24840.00000</td>\n      <td>24840.000000</td>\n      <td>24840.000000</td>\n    </tr>\n    <tr>\n      <th>mean</th>\n      <td>12419.500000</td>\n      <td>54.145934</td>\n      <td>123.411194</td>\n      <td>99.411636</td>\n      <td>102.223549</td>\n      <td>131.498428</td>\n      <td>106.423790</td>\n      <td>109.140900</td>\n      <td>137.425644</td>\n      <td>111.619522</td>\n      <td>...</td>\n      <td>0.097182</td>\n      <td>0.115580</td>\n      <td>0.46715</td>\n      <td>0.53285</td>\n      <td>0.314332</td>\n      <td>0.184018</td>\n      <td>0.002375</td>\n      <td>0.01566</td>\n      <td>0.386433</td>\n      <td>0.097182</td>\n    </tr>\n    <tr>\n      <th>std</th>\n      <td>7170.834679</td>\n      <td>17.974619</td>\n      <td>89.094986</td>\n      <td>72.416664</td>\n      <td>75.291954</td>\n      <td>86.965065</td>\n      <td>71.187691</td>\n      <td>74.116867</td>\n      <td>85.213074</td>\n      <td>70.088135</td>\n      <td>...</td>\n      <td>0.296211</td>\n      <td>0.319727</td>\n      <td>0.49893</td>\n      <td>0.49893</td>\n      <td>0.464259</td>\n      <td>0.387506</td>\n      <td>0.048679</td>\n      <td>0.12416</td>\n      <td>0.486942</td>\n      <td>0.296211</td>\n    </tr>\n    <tr>\n      <th>min</th>\n      <td>0.000000</td>\n      <td>5.000000</td>\n      <td>0.000000</td>\n      <td>0.000000</td>\n      <td>0.000000</td>\n      <td>0.000000</td>\n      <td>0.000000</td>\n      <td>0.000000</td>\n      <td>0.000000</td>\n      <td>0.000000</td>\n      <td>...</td>\n      <td>0.000000</td>\n      <td>0.000000</td>\n      <td>0.00000</td>\n      <td>0.00000</td>\n      <td>0.000000</td>\n      <td>0.000000</td>\n      <td>0.000000</td>\n      <td>0.00000</td>\n      <td>0.000000</td>\n      <td>0.000000</td>\n    </tr>\n    <tr>\n      <th>25%</th>\n      <td>6209.750000</td>\n      <td>40.000000</td>\n      <td>6.000000</td>\n      <td>6.000000</td>\n      <td>6.000000</td>\n      <td>24.000000</td>\n      <td>19.000000</td>\n      <td>20.000000</td>\n      <td>55.000000</td>\n      <td>45.000000</td>\n      <td>...</td>\n      <td>0.000000</td>\n      <td>0.000000</td>\n      <td>0.00000</td>\n      <td>0.00000</td>\n      <td>0.000000</td>\n      <td>0.000000</td>\n      <td>0.000000</td>\n      <td>0.00000</td>\n      <td>0.000000</td>\n      <td>0.000000</td>\n    </tr>\n    <tr>\n      <th>50%</th>\n      <td>12419.500000</td>\n      <td>55.000000</td>\n      <td>153.000000</td>\n      <td>122.000000</td>\n      <td>124.000000</td>\n      <td>161.000000</td>\n      <td>129.000000</td>\n      <td>132.000000</td>\n      <td>166.000000</td>\n      <td>134.000000</td>\n      <td>...</td>\n      <td>0.000000</td>\n      <td>0.000000</td>\n      <td>0.00000</td>\n      <td>1.00000</td>\n      <td>0.000000</td>\n      <td>0.000000</td>\n      <td>0.000000</td>\n      <td>0.00000</td>\n      <td>0.000000</td>\n      <td>0.000000</td>\n    </tr>\n    <tr>\n      <th>75%</th>\n      <td>18629.250000</td>\n      <td>70.000000</td>\n      <td>201.000000</td>\n      <td>158.000000</td>\n      <td>166.000000</td>\n      <td>203.000000</td>\n      <td>161.000000</td>\n      <td>169.000000</td>\n      <td>205.000000</td>\n      <td>164.000000</td>\n      <td>...</td>\n      <td>0.000000</td>\n      <td>0.000000</td>\n      <td>1.00000</td>\n      <td>1.00000</td>\n      <td>1.000000</td>\n      <td>0.000000</td>\n      <td>0.000000</td>\n      <td>0.00000</td>\n      <td>1.000000</td>\n      <td>0.000000</td>\n    </tr>\n    <tr>\n      <th>max</th>\n      <td>24839.000000</td>\n      <td>85.000000</td>\n      <td>255.000000</td>\n      <td>255.000000</td>\n      <td>255.000000</td>\n      <td>255.000000</td>\n      <td>255.000000</td>\n      <td>255.000000</td>\n      <td>255.000000</td>\n      <td>255.000000</td>\n      <td>...</td>\n      <td>1.000000</td>\n      <td>1.000000</td>\n      <td>1.00000</td>\n      <td>1.00000</td>\n      <td>1.000000</td>\n      <td>1.000000</td>\n      <td>1.000000</td>\n      <td>1.00000</td>\n      <td>1.000000</td>\n      <td>1.000000</td>\n    </tr>\n  </tbody>\n</table>\n<p>8 rows × 3092 columns</p>\n</div>"
     },
     "metadata": {},
     "output_type": "display_data"
    }
   ],
   "source": [
    "df_dump = df_complete.copy()\n",
    "image_index = {name: i for i, name in enumerate(df_complete['image'])}\n",
    "rev_image_index = {i: name for i, name in enumerate(df_complete['image'])}\n",
    "df_dump['image'] = df_dump['image'].apply(lambda name: image_index[name])\n",
    "df_dump = df_dump[columns_dump]\n",
    "\n",
    "for cat in columns_cat:\n",
    "    one_hot = pd.get_dummies(df_dump[cat], prefix=cat)\n",
    "    df_dump = df_dump.drop(cat, axis=1)\n",
    "    df_dump = df_dump.join(one_hot)\n",
    "\n",
    "display(df_dump)\n",
    "display(df_dump.describe())"
   ]
  },
  {
   "cell_type": "code",
   "execution_count": 19,
   "metadata": {
    "collapsed": false
   },
   "outputs": [
    {
     "data": {
      "text/plain": "       image  age_approx  pixel_0  pixel_1  pixel_2  pixel_3  pixel_4  \\\n0          0        55.0    144.0    191.0    233.0    162.0    202.0   \n1          1        30.0    135.0    134.0    142.0    150.0    148.0   \n2          2        60.0      4.0      4.0      4.0      5.0      5.0   \n3          3        30.0    222.0    221.0    226.0    219.0    219.0   \n4          4        80.0      1.0      1.0      1.0      1.0      1.0   \n...      ...         ...      ...      ...      ...      ...      ...   \n25326  24835        85.0      0.0      0.0      0.0      0.0      0.0   \n25327  24836        65.0     99.0     93.0     97.0    112.0    105.0   \n25328  24837        70.0    129.0    123.0    123.0    119.0    102.0   \n25329  24838        55.0    143.0    120.0    136.0    149.0    128.0   \n25330  24839        50.0    211.0    221.0    222.0    214.0    224.0   \n\n       pixel_5  pixel_6  pixel_7  ...  anatom_site_general_unknown  \\\n0        237.0    169.0    207.0  ...                            0   \n1        151.0    159.0    158.0  ...                            0   \n2          5.0      6.0      6.0  ...                            0   \n3        221.0    217.0    217.0  ...                            0   \n4          1.0      1.0      1.0  ...                            0   \n...        ...      ...      ...  ...                          ...   \n25326      0.0      0.0      0.0  ...                            0   \n25327    112.0    121.0    116.0  ...                            0   \n25328    108.0    106.0     88.0  ...                            0   \n25329    143.0    150.0    132.0  ...                            0   \n25330    226.0    216.0    223.0  ...                            0   \n\n       anatom_site_general_upper extremity  sex_female  sex_male  \\\n0                                        0           1         0   \n1                                        0           1         0   \n2                                        1           1         0   \n3                                        1           0         1   \n4                                        0           0         1   \n...                                    ...         ...       ...   \n25326                                    0           1         0   \n25327                                    0           0         1   \n25328                                    0           0         1   \n25329                                    0           1         0   \n25330                                    1           0         1   \n\n       anatomy_site_extremity  anatomy_site_head/neck  \\\n0                           0                       0   \n1                           0                       0   \n2                           1                       0   \n3                           1                       0   \n4                           0                       0   \n...                       ...                     ...   \n25326                       0                       1   \n25327                       0                       0   \n25328                       1                       0   \n25329                       0                       0   \n25330                       1                       0   \n\n       anatomy_site_oral/genital  anatomy_site_palms/soles  \\\n0                              0                         0   \n1                              0                         0   \n2                              0                         0   \n3                              0                         0   \n4                              0                         0   \n...                          ...                       ...   \n25326                          0                         0   \n25327                          0                         0   \n25328                          0                         0   \n25329                          0                         1   \n25330                          0                         0   \n\n       anatomy_site_torso  anatomy_site_unknown  \n0                       1                     0  \n1                       1                     0  \n2                       0                     0  \n3                       0                     0  \n4                       1                     0  \n...                   ...                   ...  \n25326                   0                     0  \n25327                   1                     0  \n25328                   0                     0  \n25329                   0                     0  \n25330                   0                     0  \n\n[24840 rows x 3091 columns]",
      "text/html": "<div>\n<style scoped>\n    .dataframe tbody tr th:only-of-type {\n        vertical-align: middle;\n    }\n\n    .dataframe tbody tr th {\n        vertical-align: top;\n    }\n\n    .dataframe thead th {\n        text-align: right;\n    }\n</style>\n<table border=\"1\" class=\"dataframe\">\n  <thead>\n    <tr style=\"text-align: right;\">\n      <th></th>\n      <th>image</th>\n      <th>age_approx</th>\n      <th>pixel_0</th>\n      <th>pixel_1</th>\n      <th>pixel_2</th>\n      <th>pixel_3</th>\n      <th>pixel_4</th>\n      <th>pixel_5</th>\n      <th>pixel_6</th>\n      <th>pixel_7</th>\n      <th>...</th>\n      <th>anatom_site_general_unknown</th>\n      <th>anatom_site_general_upper extremity</th>\n      <th>sex_female</th>\n      <th>sex_male</th>\n      <th>anatomy_site_extremity</th>\n      <th>anatomy_site_head/neck</th>\n      <th>anatomy_site_oral/genital</th>\n      <th>anatomy_site_palms/soles</th>\n      <th>anatomy_site_torso</th>\n      <th>anatomy_site_unknown</th>\n    </tr>\n  </thead>\n  <tbody>\n    <tr>\n      <th>0</th>\n      <td>0</td>\n      <td>55.0</td>\n      <td>144.0</td>\n      <td>191.0</td>\n      <td>233.0</td>\n      <td>162.0</td>\n      <td>202.0</td>\n      <td>237.0</td>\n      <td>169.0</td>\n      <td>207.0</td>\n      <td>...</td>\n      <td>0</td>\n      <td>0</td>\n      <td>1</td>\n      <td>0</td>\n      <td>0</td>\n      <td>0</td>\n      <td>0</td>\n      <td>0</td>\n      <td>1</td>\n      <td>0</td>\n    </tr>\n    <tr>\n      <th>1</th>\n      <td>1</td>\n      <td>30.0</td>\n      <td>135.0</td>\n      <td>134.0</td>\n      <td>142.0</td>\n      <td>150.0</td>\n      <td>148.0</td>\n      <td>151.0</td>\n      <td>159.0</td>\n      <td>158.0</td>\n      <td>...</td>\n      <td>0</td>\n      <td>0</td>\n      <td>1</td>\n      <td>0</td>\n      <td>0</td>\n      <td>0</td>\n      <td>0</td>\n      <td>0</td>\n      <td>1</td>\n      <td>0</td>\n    </tr>\n    <tr>\n      <th>2</th>\n      <td>2</td>\n      <td>60.0</td>\n      <td>4.0</td>\n      <td>4.0</td>\n      <td>4.0</td>\n      <td>5.0</td>\n      <td>5.0</td>\n      <td>5.0</td>\n      <td>6.0</td>\n      <td>6.0</td>\n      <td>...</td>\n      <td>0</td>\n      <td>1</td>\n      <td>1</td>\n      <td>0</td>\n      <td>1</td>\n      <td>0</td>\n      <td>0</td>\n      <td>0</td>\n      <td>0</td>\n      <td>0</td>\n    </tr>\n    <tr>\n      <th>3</th>\n      <td>3</td>\n      <td>30.0</td>\n      <td>222.0</td>\n      <td>221.0</td>\n      <td>226.0</td>\n      <td>219.0</td>\n      <td>219.0</td>\n      <td>221.0</td>\n      <td>217.0</td>\n      <td>217.0</td>\n      <td>...</td>\n      <td>0</td>\n      <td>1</td>\n      <td>0</td>\n      <td>1</td>\n      <td>1</td>\n      <td>0</td>\n      <td>0</td>\n      <td>0</td>\n      <td>0</td>\n      <td>0</td>\n    </tr>\n    <tr>\n      <th>4</th>\n      <td>4</td>\n      <td>80.0</td>\n      <td>1.0</td>\n      <td>1.0</td>\n      <td>1.0</td>\n      <td>1.0</td>\n      <td>1.0</td>\n      <td>1.0</td>\n      <td>1.0</td>\n      <td>1.0</td>\n      <td>...</td>\n      <td>0</td>\n      <td>0</td>\n      <td>0</td>\n      <td>1</td>\n      <td>0</td>\n      <td>0</td>\n      <td>0</td>\n      <td>0</td>\n      <td>1</td>\n      <td>0</td>\n    </tr>\n    <tr>\n      <th>...</th>\n      <td>...</td>\n      <td>...</td>\n      <td>...</td>\n      <td>...</td>\n      <td>...</td>\n      <td>...</td>\n      <td>...</td>\n      <td>...</td>\n      <td>...</td>\n      <td>...</td>\n      <td>...</td>\n      <td>...</td>\n      <td>...</td>\n      <td>...</td>\n      <td>...</td>\n      <td>...</td>\n      <td>...</td>\n      <td>...</td>\n      <td>...</td>\n      <td>...</td>\n      <td>...</td>\n    </tr>\n    <tr>\n      <th>25326</th>\n      <td>24835</td>\n      <td>85.0</td>\n      <td>0.0</td>\n      <td>0.0</td>\n      <td>0.0</td>\n      <td>0.0</td>\n      <td>0.0</td>\n      <td>0.0</td>\n      <td>0.0</td>\n      <td>0.0</td>\n      <td>...</td>\n      <td>0</td>\n      <td>0</td>\n      <td>1</td>\n      <td>0</td>\n      <td>0</td>\n      <td>1</td>\n      <td>0</td>\n      <td>0</td>\n      <td>0</td>\n      <td>0</td>\n    </tr>\n    <tr>\n      <th>25327</th>\n      <td>24836</td>\n      <td>65.0</td>\n      <td>99.0</td>\n      <td>93.0</td>\n      <td>97.0</td>\n      <td>112.0</td>\n      <td>105.0</td>\n      <td>112.0</td>\n      <td>121.0</td>\n      <td>116.0</td>\n      <td>...</td>\n      <td>0</td>\n      <td>0</td>\n      <td>0</td>\n      <td>1</td>\n      <td>0</td>\n      <td>0</td>\n      <td>0</td>\n      <td>0</td>\n      <td>1</td>\n      <td>0</td>\n    </tr>\n    <tr>\n      <th>25328</th>\n      <td>24837</td>\n      <td>70.0</td>\n      <td>129.0</td>\n      <td>123.0</td>\n      <td>123.0</td>\n      <td>119.0</td>\n      <td>102.0</td>\n      <td>108.0</td>\n      <td>106.0</td>\n      <td>88.0</td>\n      <td>...</td>\n      <td>0</td>\n      <td>0</td>\n      <td>0</td>\n      <td>1</td>\n      <td>1</td>\n      <td>0</td>\n      <td>0</td>\n      <td>0</td>\n      <td>0</td>\n      <td>0</td>\n    </tr>\n    <tr>\n      <th>25329</th>\n      <td>24838</td>\n      <td>55.0</td>\n      <td>143.0</td>\n      <td>120.0</td>\n      <td>136.0</td>\n      <td>149.0</td>\n      <td>128.0</td>\n      <td>143.0</td>\n      <td>150.0</td>\n      <td>132.0</td>\n      <td>...</td>\n      <td>0</td>\n      <td>0</td>\n      <td>1</td>\n      <td>0</td>\n      <td>0</td>\n      <td>0</td>\n      <td>0</td>\n      <td>1</td>\n      <td>0</td>\n      <td>0</td>\n    </tr>\n    <tr>\n      <th>25330</th>\n      <td>24839</td>\n      <td>50.0</td>\n      <td>211.0</td>\n      <td>221.0</td>\n      <td>222.0</td>\n      <td>214.0</td>\n      <td>224.0</td>\n      <td>226.0</td>\n      <td>216.0</td>\n      <td>223.0</td>\n      <td>...</td>\n      <td>0</td>\n      <td>1</td>\n      <td>0</td>\n      <td>1</td>\n      <td>1</td>\n      <td>0</td>\n      <td>0</td>\n      <td>0</td>\n      <td>0</td>\n      <td>0</td>\n    </tr>\n  </tbody>\n</table>\n<p>24840 rows × 3091 columns</p>\n</div>"
     },
     "metadata": {},
     "output_type": "display_data"
    },
    {
     "data": {
      "text/plain": "0        1\n1        1\n2        0\n3        1\n4        0\n        ..\n25326    2\n25327    4\n25328    0\n25329    1\n25330    4\nName: label, Length: 24840, dtype: int64"
     },
     "metadata": {},
     "output_type": "display_data"
    },
    {
     "name": "stdout",
     "output_type": "stream",
     "text": [
      "Resampled dataset shape {0: 190, 1: 190, 2: 190, 3: 190, 4: 190, 5: 190, 6: 190, 7: 190}\n"
     ]
    }
   ],
   "source": [
    "# We use undersampling since we assume that the amount of data is more than sufficient and adding more synthetic data using oversampling is not that useful in our case\n",
    "# Sample references to existing downsampling use-cases:\n",
    "# https://www.quora.com/Is-it-a-good-idea-to-undersample-or-oversample-a-heavily-imbalanced-dataset-from-a-statistical-perspective\n",
    "X_dump = df_dump.drop(columns=['label'])\n",
    "display(X_dump)\n",
    "y_dump = df_dump['label']\n",
    "display(y_dump)\n",
    "\n",
    "X_resampled, _, y_resampled, _ = train_test_split(X_dump, y_dump, test_size=TEST_SIZE, random_state=RANDOM_STATE)\n",
    "\n",
    "\n",
    "# TODO change all cells from float to int\n",
    "under_sampler = NearMiss()\n",
    "X_resampled, y_resampled = under_sampler.fit_resample(X_resampled, y_resampled)\n",
    "print(f'Resampled dataset shape {dict(Counter(y_resampled))}')"
   ]
  },
  {
   "cell_type": "code",
   "execution_count": 20,
   "outputs": [
    {
     "data": {
      "text/plain": "              image  age_approx anatom_site_general    lesion_id     sex  MEL  \\\n2915   ISIC_0024318        65.0     lower extremity  HAM_0002450  female  0.0   \n2967   ISIC_0024370        55.0             unknown  HAM_0001780    male  0.0   \n2983   ISIC_0024386        40.0     lower extremity  HAM_0005112  female  0.0   \n3072   ISIC_0024475        35.0           head/neck  HAM_0003873    male  0.0   \n3114   ISIC_0024517        65.0     posterior torso  HAM_0001894    male  0.0   \n...             ...         ...                 ...          ...     ...  ...   \n25256  ISIC_0073141        45.0      anterior torso  BCN_0005520  female  0.0   \n25259  ISIC_0073144        75.0      anterior torso  BCN_0004091  female  0.0   \n25287  ISIC_0073193        35.0      anterior torso  BCN_0002147    male  0.0   \n25289  ISIC_0073195        70.0     lower extremity  BCN_0005492    male  0.0   \n25310  ISIC_0073223        80.0     upper extremity  BCN_0005542  female  0.0   \n\n        NV  BCC   AK  BKL   DF  VASC  SCC  UNK  label anatomy_site  is_seen  \n2915   0.0  0.0  0.0  0.0  1.0   0.0  0.0  0.0      5    extremity     True  \n2967   0.0  0.0  0.0  0.0  0.0   1.0  0.0  0.0      6      unknown     True  \n2983   0.0  0.0  0.0  0.0  1.0   0.0  0.0  0.0      5    extremity     True  \n3072   0.0  0.0  0.0  0.0  0.0   1.0  0.0  0.0      6    head/neck     True  \n3114   0.0  0.0  0.0  0.0  0.0   0.0  1.0  0.0      7        torso     True  \n...    ...  ...  ...  ...  ...   ...  ...  ...    ...          ...      ...  \n25256  0.0  0.0  0.0  0.0  1.0   0.0  0.0  0.0      5        torso     True  \n25259  1.0  0.0  0.0  0.0  0.0   0.0  0.0  0.0      1        torso     True  \n25287  0.0  0.0  0.0  0.0  1.0   0.0  0.0  0.0      5        torso     True  \n25289  0.0  0.0  0.0  0.0  0.0   0.0  1.0  0.0      7    extremity     True  \n25310  0.0  0.0  0.0  0.0  0.0   0.0  1.0  0.0      7    extremity     True  \n\n[1520 rows x 17 columns]",
      "text/html": "<div>\n<style scoped>\n    .dataframe tbody tr th:only-of-type {\n        vertical-align: middle;\n    }\n\n    .dataframe tbody tr th {\n        vertical-align: top;\n    }\n\n    .dataframe thead th {\n        text-align: right;\n    }\n</style>\n<table border=\"1\" class=\"dataframe\">\n  <thead>\n    <tr style=\"text-align: right;\">\n      <th></th>\n      <th>image</th>\n      <th>age_approx</th>\n      <th>anatom_site_general</th>\n      <th>lesion_id</th>\n      <th>sex</th>\n      <th>MEL</th>\n      <th>NV</th>\n      <th>BCC</th>\n      <th>AK</th>\n      <th>BKL</th>\n      <th>DF</th>\n      <th>VASC</th>\n      <th>SCC</th>\n      <th>UNK</th>\n      <th>label</th>\n      <th>anatomy_site</th>\n      <th>is_seen</th>\n    </tr>\n  </thead>\n  <tbody>\n    <tr>\n      <th>2915</th>\n      <td>ISIC_0024318</td>\n      <td>65.0</td>\n      <td>lower extremity</td>\n      <td>HAM_0002450</td>\n      <td>female</td>\n      <td>0.0</td>\n      <td>0.0</td>\n      <td>0.0</td>\n      <td>0.0</td>\n      <td>0.0</td>\n      <td>1.0</td>\n      <td>0.0</td>\n      <td>0.0</td>\n      <td>0.0</td>\n      <td>5</td>\n      <td>extremity</td>\n      <td>True</td>\n    </tr>\n    <tr>\n      <th>2967</th>\n      <td>ISIC_0024370</td>\n      <td>55.0</td>\n      <td>unknown</td>\n      <td>HAM_0001780</td>\n      <td>male</td>\n      <td>0.0</td>\n      <td>0.0</td>\n      <td>0.0</td>\n      <td>0.0</td>\n      <td>0.0</td>\n      <td>0.0</td>\n      <td>1.0</td>\n      <td>0.0</td>\n      <td>0.0</td>\n      <td>6</td>\n      <td>unknown</td>\n      <td>True</td>\n    </tr>\n    <tr>\n      <th>2983</th>\n      <td>ISIC_0024386</td>\n      <td>40.0</td>\n      <td>lower extremity</td>\n      <td>HAM_0005112</td>\n      <td>female</td>\n      <td>0.0</td>\n      <td>0.0</td>\n      <td>0.0</td>\n      <td>0.0</td>\n      <td>0.0</td>\n      <td>1.0</td>\n      <td>0.0</td>\n      <td>0.0</td>\n      <td>0.0</td>\n      <td>5</td>\n      <td>extremity</td>\n      <td>True</td>\n    </tr>\n    <tr>\n      <th>3072</th>\n      <td>ISIC_0024475</td>\n      <td>35.0</td>\n      <td>head/neck</td>\n      <td>HAM_0003873</td>\n      <td>male</td>\n      <td>0.0</td>\n      <td>0.0</td>\n      <td>0.0</td>\n      <td>0.0</td>\n      <td>0.0</td>\n      <td>0.0</td>\n      <td>1.0</td>\n      <td>0.0</td>\n      <td>0.0</td>\n      <td>6</td>\n      <td>head/neck</td>\n      <td>True</td>\n    </tr>\n    <tr>\n      <th>3114</th>\n      <td>ISIC_0024517</td>\n      <td>65.0</td>\n      <td>posterior torso</td>\n      <td>HAM_0001894</td>\n      <td>male</td>\n      <td>0.0</td>\n      <td>0.0</td>\n      <td>0.0</td>\n      <td>0.0</td>\n      <td>0.0</td>\n      <td>0.0</td>\n      <td>0.0</td>\n      <td>1.0</td>\n      <td>0.0</td>\n      <td>7</td>\n      <td>torso</td>\n      <td>True</td>\n    </tr>\n    <tr>\n      <th>...</th>\n      <td>...</td>\n      <td>...</td>\n      <td>...</td>\n      <td>...</td>\n      <td>...</td>\n      <td>...</td>\n      <td>...</td>\n      <td>...</td>\n      <td>...</td>\n      <td>...</td>\n      <td>...</td>\n      <td>...</td>\n      <td>...</td>\n      <td>...</td>\n      <td>...</td>\n      <td>...</td>\n      <td>...</td>\n    </tr>\n    <tr>\n      <th>25256</th>\n      <td>ISIC_0073141</td>\n      <td>45.0</td>\n      <td>anterior torso</td>\n      <td>BCN_0005520</td>\n      <td>female</td>\n      <td>0.0</td>\n      <td>0.0</td>\n      <td>0.0</td>\n      <td>0.0</td>\n      <td>0.0</td>\n      <td>1.0</td>\n      <td>0.0</td>\n      <td>0.0</td>\n      <td>0.0</td>\n      <td>5</td>\n      <td>torso</td>\n      <td>True</td>\n    </tr>\n    <tr>\n      <th>25259</th>\n      <td>ISIC_0073144</td>\n      <td>75.0</td>\n      <td>anterior torso</td>\n      <td>BCN_0004091</td>\n      <td>female</td>\n      <td>0.0</td>\n      <td>1.0</td>\n      <td>0.0</td>\n      <td>0.0</td>\n      <td>0.0</td>\n      <td>0.0</td>\n      <td>0.0</td>\n      <td>0.0</td>\n      <td>0.0</td>\n      <td>1</td>\n      <td>torso</td>\n      <td>True</td>\n    </tr>\n    <tr>\n      <th>25287</th>\n      <td>ISIC_0073193</td>\n      <td>35.0</td>\n      <td>anterior torso</td>\n      <td>BCN_0002147</td>\n      <td>male</td>\n      <td>0.0</td>\n      <td>0.0</td>\n      <td>0.0</td>\n      <td>0.0</td>\n      <td>0.0</td>\n      <td>1.0</td>\n      <td>0.0</td>\n      <td>0.0</td>\n      <td>0.0</td>\n      <td>5</td>\n      <td>torso</td>\n      <td>True</td>\n    </tr>\n    <tr>\n      <th>25289</th>\n      <td>ISIC_0073195</td>\n      <td>70.0</td>\n      <td>lower extremity</td>\n      <td>BCN_0005492</td>\n      <td>male</td>\n      <td>0.0</td>\n      <td>0.0</td>\n      <td>0.0</td>\n      <td>0.0</td>\n      <td>0.0</td>\n      <td>0.0</td>\n      <td>0.0</td>\n      <td>1.0</td>\n      <td>0.0</td>\n      <td>7</td>\n      <td>extremity</td>\n      <td>True</td>\n    </tr>\n    <tr>\n      <th>25310</th>\n      <td>ISIC_0073223</td>\n      <td>80.0</td>\n      <td>upper extremity</td>\n      <td>BCN_0005542</td>\n      <td>female</td>\n      <td>0.0</td>\n      <td>0.0</td>\n      <td>0.0</td>\n      <td>0.0</td>\n      <td>0.0</td>\n      <td>0.0</td>\n      <td>0.0</td>\n      <td>1.0</td>\n      <td>0.0</td>\n      <td>7</td>\n      <td>extremity</td>\n      <td>True</td>\n    </tr>\n  </tbody>\n</table>\n<p>1520 rows × 17 columns</p>\n</div>"
     },
     "metadata": {},
     "output_type": "display_data"
    },
    {
     "data": {
      "text/plain": "              image  age_approx anatom_site_general    lesion_id     sex  MEL  \\\n0      ISIC_0000000        55.0      anterior torso          NaN  female  0.0   \n1      ISIC_0000001        30.0      anterior torso          NaN  female  0.0   \n2      ISIC_0000002        60.0     upper extremity          NaN  female  1.0   \n3      ISIC_0000003        30.0     upper extremity          NaN    male  0.0   \n4      ISIC_0000004        80.0     posterior torso          NaN    male  1.0   \n...             ...         ...                 ...          ...     ...  ...   \n25326  ISIC_0073247        85.0           head/neck  BCN_0003925  female  0.0   \n25327  ISIC_0073248        65.0      anterior torso  BCN_0001819    male  0.0   \n25328  ISIC_0073249        70.0     lower extremity  BCN_0001085    male  1.0   \n25329  ISIC_0073251        55.0         palms/soles  BCN_0002083  female  0.0   \n25330  ISIC_0073254        50.0     upper extremity  BCN_0001079    male  0.0   \n\n        NV  BCC   AK  BKL   DF  VASC  SCC  UNK  label anatomy_site  is_seen  \n0      1.0  0.0  0.0  0.0  0.0   0.0  0.0  0.0      1        torso    False  \n1      1.0  0.0  0.0  0.0  0.0   0.0  0.0  0.0      1        torso    False  \n2      0.0  0.0  0.0  0.0  0.0   0.0  0.0  0.0      0    extremity    False  \n3      1.0  0.0  0.0  0.0  0.0   0.0  0.0  0.0      1    extremity    False  \n4      0.0  0.0  0.0  0.0  0.0   0.0  0.0  0.0      0        torso    False  \n...    ...  ...  ...  ...  ...   ...  ...  ...    ...          ...      ...  \n25326  0.0  1.0  0.0  0.0  0.0   0.0  0.0  0.0      2    head/neck    False  \n25327  0.0  0.0  0.0  1.0  0.0   0.0  0.0  0.0      4        torso    False  \n25328  0.0  0.0  0.0  0.0  0.0   0.0  0.0  0.0      0    extremity    False  \n25329  1.0  0.0  0.0  0.0  0.0   0.0  0.0  0.0      1  palms/soles    False  \n25330  0.0  0.0  0.0  1.0  0.0   0.0  0.0  0.0      4    extremity    False  \n\n[23320 rows x 17 columns]",
      "text/html": "<div>\n<style scoped>\n    .dataframe tbody tr th:only-of-type {\n        vertical-align: middle;\n    }\n\n    .dataframe tbody tr th {\n        vertical-align: top;\n    }\n\n    .dataframe thead th {\n        text-align: right;\n    }\n</style>\n<table border=\"1\" class=\"dataframe\">\n  <thead>\n    <tr style=\"text-align: right;\">\n      <th></th>\n      <th>image</th>\n      <th>age_approx</th>\n      <th>anatom_site_general</th>\n      <th>lesion_id</th>\n      <th>sex</th>\n      <th>MEL</th>\n      <th>NV</th>\n      <th>BCC</th>\n      <th>AK</th>\n      <th>BKL</th>\n      <th>DF</th>\n      <th>VASC</th>\n      <th>SCC</th>\n      <th>UNK</th>\n      <th>label</th>\n      <th>anatomy_site</th>\n      <th>is_seen</th>\n    </tr>\n  </thead>\n  <tbody>\n    <tr>\n      <th>0</th>\n      <td>ISIC_0000000</td>\n      <td>55.0</td>\n      <td>anterior torso</td>\n      <td>NaN</td>\n      <td>female</td>\n      <td>0.0</td>\n      <td>1.0</td>\n      <td>0.0</td>\n      <td>0.0</td>\n      <td>0.0</td>\n      <td>0.0</td>\n      <td>0.0</td>\n      <td>0.0</td>\n      <td>0.0</td>\n      <td>1</td>\n      <td>torso</td>\n      <td>False</td>\n    </tr>\n    <tr>\n      <th>1</th>\n      <td>ISIC_0000001</td>\n      <td>30.0</td>\n      <td>anterior torso</td>\n      <td>NaN</td>\n      <td>female</td>\n      <td>0.0</td>\n      <td>1.0</td>\n      <td>0.0</td>\n      <td>0.0</td>\n      <td>0.0</td>\n      <td>0.0</td>\n      <td>0.0</td>\n      <td>0.0</td>\n      <td>0.0</td>\n      <td>1</td>\n      <td>torso</td>\n      <td>False</td>\n    </tr>\n    <tr>\n      <th>2</th>\n      <td>ISIC_0000002</td>\n      <td>60.0</td>\n      <td>upper extremity</td>\n      <td>NaN</td>\n      <td>female</td>\n      <td>1.0</td>\n      <td>0.0</td>\n      <td>0.0</td>\n      <td>0.0</td>\n      <td>0.0</td>\n      <td>0.0</td>\n      <td>0.0</td>\n      <td>0.0</td>\n      <td>0.0</td>\n      <td>0</td>\n      <td>extremity</td>\n      <td>False</td>\n    </tr>\n    <tr>\n      <th>3</th>\n      <td>ISIC_0000003</td>\n      <td>30.0</td>\n      <td>upper extremity</td>\n      <td>NaN</td>\n      <td>male</td>\n      <td>0.0</td>\n      <td>1.0</td>\n      <td>0.0</td>\n      <td>0.0</td>\n      <td>0.0</td>\n      <td>0.0</td>\n      <td>0.0</td>\n      <td>0.0</td>\n      <td>0.0</td>\n      <td>1</td>\n      <td>extremity</td>\n      <td>False</td>\n    </tr>\n    <tr>\n      <th>4</th>\n      <td>ISIC_0000004</td>\n      <td>80.0</td>\n      <td>posterior torso</td>\n      <td>NaN</td>\n      <td>male</td>\n      <td>1.0</td>\n      <td>0.0</td>\n      <td>0.0</td>\n      <td>0.0</td>\n      <td>0.0</td>\n      <td>0.0</td>\n      <td>0.0</td>\n      <td>0.0</td>\n      <td>0.0</td>\n      <td>0</td>\n      <td>torso</td>\n      <td>False</td>\n    </tr>\n    <tr>\n      <th>...</th>\n      <td>...</td>\n      <td>...</td>\n      <td>...</td>\n      <td>...</td>\n      <td>...</td>\n      <td>...</td>\n      <td>...</td>\n      <td>...</td>\n      <td>...</td>\n      <td>...</td>\n      <td>...</td>\n      <td>...</td>\n      <td>...</td>\n      <td>...</td>\n      <td>...</td>\n      <td>...</td>\n      <td>...</td>\n    </tr>\n    <tr>\n      <th>25326</th>\n      <td>ISIC_0073247</td>\n      <td>85.0</td>\n      <td>head/neck</td>\n      <td>BCN_0003925</td>\n      <td>female</td>\n      <td>0.0</td>\n      <td>0.0</td>\n      <td>1.0</td>\n      <td>0.0</td>\n      <td>0.0</td>\n      <td>0.0</td>\n      <td>0.0</td>\n      <td>0.0</td>\n      <td>0.0</td>\n      <td>2</td>\n      <td>head/neck</td>\n      <td>False</td>\n    </tr>\n    <tr>\n      <th>25327</th>\n      <td>ISIC_0073248</td>\n      <td>65.0</td>\n      <td>anterior torso</td>\n      <td>BCN_0001819</td>\n      <td>male</td>\n      <td>0.0</td>\n      <td>0.0</td>\n      <td>0.0</td>\n      <td>0.0</td>\n      <td>1.0</td>\n      <td>0.0</td>\n      <td>0.0</td>\n      <td>0.0</td>\n      <td>0.0</td>\n      <td>4</td>\n      <td>torso</td>\n      <td>False</td>\n    </tr>\n    <tr>\n      <th>25328</th>\n      <td>ISIC_0073249</td>\n      <td>70.0</td>\n      <td>lower extremity</td>\n      <td>BCN_0001085</td>\n      <td>male</td>\n      <td>1.0</td>\n      <td>0.0</td>\n      <td>0.0</td>\n      <td>0.0</td>\n      <td>0.0</td>\n      <td>0.0</td>\n      <td>0.0</td>\n      <td>0.0</td>\n      <td>0.0</td>\n      <td>0</td>\n      <td>extremity</td>\n      <td>False</td>\n    </tr>\n    <tr>\n      <th>25329</th>\n      <td>ISIC_0073251</td>\n      <td>55.0</td>\n      <td>palms/soles</td>\n      <td>BCN_0002083</td>\n      <td>female</td>\n      <td>0.0</td>\n      <td>1.0</td>\n      <td>0.0</td>\n      <td>0.0</td>\n      <td>0.0</td>\n      <td>0.0</td>\n      <td>0.0</td>\n      <td>0.0</td>\n      <td>0.0</td>\n      <td>1</td>\n      <td>palms/soles</td>\n      <td>False</td>\n    </tr>\n    <tr>\n      <th>25330</th>\n      <td>ISIC_0073254</td>\n      <td>50.0</td>\n      <td>upper extremity</td>\n      <td>BCN_0001079</td>\n      <td>male</td>\n      <td>0.0</td>\n      <td>0.0</td>\n      <td>0.0</td>\n      <td>0.0</td>\n      <td>1.0</td>\n      <td>0.0</td>\n      <td>0.0</td>\n      <td>0.0</td>\n      <td>0.0</td>\n      <td>4</td>\n      <td>extremity</td>\n      <td>False</td>\n    </tr>\n  </tbody>\n</table>\n<p>23320 rows × 17 columns</p>\n</div>"
     },
     "metadata": {},
     "output_type": "display_data"
    }
   ],
   "source": [
    "images_seen = set(X_resampled['image'])\n",
    "df_cleaned['is_seen'] = df_cleaned['image'].apply(lambda name: image_index[name] in images_seen)\n",
    "\n",
    "df_seen = df_cleaned[df_cleaned['is_seen']].copy()\n",
    "display(df_seen)\n",
    "df_test = df_cleaned[df_cleaned['is_seen'] == False].copy()\n",
    "display(df_test)"
   ],
   "metadata": {
    "collapsed": false
   }
  },
  {
   "cell_type": "code",
   "execution_count": 23,
   "outputs": [],
   "source": [
    "images_seen = [rev_image_index[image_seen] for image_seen in images_seen]\n",
    "with open(\"../src/data/state/images_seen.txt\", \"w\") as seen_file:\n",
    "    seen_file.write('\\n'.join(images_seen))"
   ],
   "metadata": {
    "collapsed": false
   }
  },
  {
   "cell_type": "code",
   "execution_count": null,
   "outputs": [],
   "source": [],
   "metadata": {
    "collapsed": false
   }
  }
 ],
 "metadata": {
  "kernelspec": {
   "display_name": "Python 3",
   "language": "python",
   "name": "python3"
  },
  "language_info": {
   "codemirror_mode": {
    "name": "ipython",
    "version": 2
   },
   "file_extension": ".py",
   "mimetype": "text/x-python",
   "name": "python",
   "nbconvert_exporter": "python",
   "pygments_lexer": "ipython2",
   "version": "2.7.6"
  }
 },
 "nbformat": 4,
 "nbformat_minor": 0
}
